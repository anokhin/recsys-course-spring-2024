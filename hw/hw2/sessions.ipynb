{
 "cells": [
  {
   "cell_type": "code",
   "execution_count": 1,
   "id": "8d8acb9d",
   "metadata": {},
   "outputs": [
    {
     "name": "stderr",
     "output_type": "stream",
     "text": [
      "D:\\c23\\envs\\lucky\\lib\\site-packages\\torchaudio\\backend\\utils.py:62: UserWarning: No audio backend is available.\n",
      "  warnings.warn(\"No audio backend is available.\")\n"
     ]
    }
   ],
   "source": [
    "import pandas as pd\n",
    "import numpy as np\n",
    "from collections import namedtuple\n",
    "\n",
    "import torch\n",
    "import torch.nn as nn\n",
    "import torch.nn.functional as F\n",
    "import torch.utils.data as td\n",
    "\n",
    "import pytorch_lightning as pl\n",
    "\n",
    "from tqdm.autonotebook import tqdm\n",
    "import json\n",
    "import sklearn.metrics as sm\n",
    "from sklearn.preprocessing import LabelEncoder\n",
    "from scipy import spatial\n",
    "\n",
    "import tensorboardX as tb\n",
    "import tensorflow as tf\n",
    "import datetime, os\n",
    "\n",
    "import matplotlib.pyplot as plt\n",
    "import seaborn as sns\n",
    "\n",
    "import typing as tp\n",
    "import faiss\n",
    "import glob\n",
    "from sklearn.metrics.pairwise import euclidean_distances\n",
    "from functools import partial\n",
    "import shutil\n",
    "\n",
    "np.random.seed(31337)"
   ]
  },
  {
   "cell_type": "code",
   "execution_count": 2,
   "id": "12cf8996",
   "metadata": {},
   "outputs": [],
   "source": [
    "DATA_DIR = \"./data\""
   ]
  },
  {
   "cell_type": "code",
   "execution_count": 3,
   "id": "5468246f",
   "metadata": {},
   "outputs": [],
   "source": [
    "data_prepared = True"
   ]
  },
  {
   "cell_type": "code",
   "execution_count": 4,
   "id": "6b493db1",
   "metadata": {},
   "outputs": [],
   "source": [
    "Pair = namedtuple(\"Session\", [\"user\", \"start\", \"track\", \"time\"])\n",
    "\n",
    "def get_pairs(user_data):\n",
    "    pairs = []\n",
    "    first = None\n",
    "    for _, row in user_data.sort_values(\"timestamp\").iterrows():\n",
    "        if first is None:\n",
    "            first = row[\"track\"]\n",
    "        else:\n",
    "            pairs.append(Pair(row[\"user\"], first, row[\"track\"], row[\"time\"]))\n",
    "\n",
    "        if row[\"message\"] == \"last\":\n",
    "            first = None\n",
    "    return pairs"
   ]
  },
  {
   "cell_type": "code",
   "execution_count": 5,
   "id": "28964078",
   "metadata": {},
   "outputs": [
    {
     "data": {
      "text/html": [
       "<div>\n",
       "<style scoped>\n",
       "    .dataframe tbody tr th:only-of-type {\n",
       "        vertical-align: middle;\n",
       "    }\n",
       "\n",
       "    .dataframe tbody tr th {\n",
       "        vertical-align: top;\n",
       "    }\n",
       "\n",
       "    .dataframe thead th {\n",
       "        text-align: right;\n",
       "    }\n",
       "</style>\n",
       "<table border=\"1\" class=\"dataframe\">\n",
       "  <thead>\n",
       "    <tr style=\"text-align: right;\">\n",
       "      <th></th>\n",
       "      <th>user</th>\n",
       "      <th>start</th>\n",
       "      <th>track</th>\n",
       "      <th>time</th>\n",
       "    </tr>\n",
       "  </thead>\n",
       "  <tbody>\n",
       "    <tr>\n",
       "      <th>0</th>\n",
       "      <td>0</td>\n",
       "      <td>544</td>\n",
       "      <td>491</td>\n",
       "      <td>0.80</td>\n",
       "    </tr>\n",
       "    <tr>\n",
       "      <th>1</th>\n",
       "      <td>0</td>\n",
       "      <td>544</td>\n",
       "      <td>567</td>\n",
       "      <td>0.64</td>\n",
       "    </tr>\n",
       "    <tr>\n",
       "      <th>2</th>\n",
       "      <td>0</td>\n",
       "      <td>544</td>\n",
       "      <td>1616</td>\n",
       "      <td>0.51</td>\n",
       "    </tr>\n",
       "    <tr>\n",
       "      <th>3</th>\n",
       "      <td>0</td>\n",
       "      <td>544</td>\n",
       "      <td>59</td>\n",
       "      <td>0.35</td>\n",
       "    </tr>\n",
       "    <tr>\n",
       "      <th>4</th>\n",
       "      <td>0</td>\n",
       "      <td>544</td>\n",
       "      <td>5768</td>\n",
       "      <td>0.13</td>\n",
       "    </tr>\n",
       "  </tbody>\n",
       "</table>\n",
       "</div>"
      ],
      "text/plain": [
       "   user  start  track  time\n",
       "0     0    544    491  0.80\n",
       "1     0    544    567  0.64\n",
       "2     0    544   1616  0.51\n",
       "3     0    544     59  0.35\n",
       "4     0    544   5768  0.13"
      ]
     },
     "execution_count": 5,
     "metadata": {},
     "output_type": "execute_result"
    }
   ],
   "source": [
    "if not data_prepared:\n",
    "    data = pd.concat([\n",
    "        pd.read_json(data_path, lines=True) \n",
    "        for data_path \n",
    "        in glob.glob(DATA_DIR + \"/*/data.json\")\n",
    "    ] + [pd.read_csv(DATA_DIR + \"/contextual_data.csv\")])\n",
    "\n",
    "    data = data[[\"message\", \"timestamp\", \"user\", \"track\", \"time\"]]\n",
    "    data[\"timestamp\"] = pd.to_datetime(data[\"timestamp\"])\n",
    "\n",
    "    pairs = pd.DataFrame(\n",
    "        data\n",
    "        .groupby(\"user\")\n",
    "        .apply(get_pairs)\n",
    "        .explode()\n",
    "        .values\n",
    "        .tolist(),\n",
    "        columns=[\"user\", \"start\", \"track\", \"time\"]\n",
    "    )\n",
    "    pairs.to_csv(f\"{DATA_DIR}/pairs_prepared.csv\", index=False)\n",
    "else:\n",
    "    pairs = pd.read_csv(f\"{DATA_DIR}/pairs_prepared.csv\")\n",
    "    \n",
    "pairs.head()"
   ]
  },
  {
   "cell_type": "code",
   "execution_count": 6,
   "id": "7c8b2c55",
   "metadata": {},
   "outputs": [],
   "source": [
    "positives = pairs[pairs[\"time\"] > 0.7].copy()"
   ]
  },
  {
   "cell_type": "code",
   "execution_count": 7,
   "id": "7bc09dd0",
   "metadata": {},
   "outputs": [
    {
     "data": {
      "text/plain": [
       "(219806, 13693)"
      ]
     },
     "execution_count": 7,
     "metadata": {},
     "output_type": "execute_result"
    }
   ],
   "source": [
    "track_counts = positives.groupby(\"track\").size()\n",
    "tracks = set(track_counts[track_counts >= 10].index.values)\n",
    "\n",
    "positives = positives[positives[\"track\"].isin(tracks)]\n",
    "\n",
    "len(positives), len(tracks)"
   ]
  },
  {
   "cell_type": "code",
   "execution_count": 8,
   "id": "4ed6aaac",
   "metadata": {},
   "outputs": [],
   "source": [
    "track_metadata = pd.read_json(\"data/tracks.json\", lines=True).drop_duplicates(subset=[\"track\"])\n",
    "track_metadata = track_metadata.fillna(value={'genre': 'Unk'})\n",
    "track_metadata[\"genre\"] = LabelEncoder().fit_transform(track_metadata[\"genre\"])\n",
    "track_metadata[\"artist\"] = LabelEncoder().fit_transform(track_metadata[\"artist\"])"
   ]
  },
  {
   "cell_type": "code",
   "execution_count": 9,
   "id": "a081743f",
   "metadata": {},
   "outputs": [],
   "source": [
    "item_features = track_metadata[[\"track\", \"genre\", \"artist\"]].set_index(\"track\", drop=False)"
   ]
  },
  {
   "cell_type": "code",
   "execution_count": 10,
   "id": "ad017b96",
   "metadata": {},
   "outputs": [],
   "source": [
    "triplets = positives[[\"user\", \"start\", \"track\"]].rename(columns={\"track\": \"track_pos\"})"
   ]
  },
  {
   "cell_type": "code",
   "execution_count": 11,
   "id": "dc4fa89f",
   "metadata": {},
   "outputs": [],
   "source": [
    "NUM_NEGATIVE_SAMPLES = 15\n",
    "triplets =  pd.concat([triplets] * NUM_NEGATIVE_SAMPLES).sort_index().reset_index(drop=True)\n",
    "triplets[\"track_neg\"] = np.random.choice(range(50000), len(triplets))"
   ]
  },
  {
   "cell_type": "code",
   "execution_count": 12,
   "id": "0ffe4469",
   "metadata": {},
   "outputs": [
    {
     "data": {
      "text/plain": [
       "(2637540, 329905, 329645)"
      ]
     },
     "execution_count": 12,
     "metadata": {},
     "output_type": "execute_result"
    }
   ],
   "source": [
    "rdm = np.random.random(len(triplets))\n",
    "train_data = triplets[rdm < 0.8]\n",
    "val_data = triplets[(rdm >= 0.8) & (rdm < 0.9)]\n",
    "test_data = triplets[rdm >= 0.9]\n",
    "\n",
    "len(train_data), len(val_data), len(test_data)"
   ]
  },
  {
   "cell_type": "code",
   "execution_count": 13,
   "id": "ca13e8b2",
   "metadata": {},
   "outputs": [],
   "source": [
    "class DSSMData(pl.LightningDataModule):\n",
    "    def __init__(self, train_triplets, val_triplets, test_triplets, item_features):\n",
    "        super().__init__()\n",
    "        self.train_triplets = train_triplets\n",
    "        self.val_triplets = val_triplets\n",
    "        self.item_features = item_features\n",
    "        self.test_triplets = test_triplets\n",
    "        \n",
    "    def _track_features(self, tracks):\n",
    "        return torch.from_numpy(item_features.loc[tracks].values).long()\n",
    "\n",
    "    def _collect_data(self, triplets):\n",
    "        users = torch.from_numpy(triplets[\"user\"].values).long()\n",
    "        starts = triplets[\"start\"].values\n",
    "        positives = triplets[\"track_pos\"].values\n",
    "        negatives = triplets[\"track_neg\"].values\n",
    "\n",
    "        return td.TensorDataset(\n",
    "            users,\n",
    "            self._track_features(starts),\n",
    "            self._track_features(positives),\n",
    "            self._track_features(negatives),\n",
    "        )\n",
    "\n",
    "    def prepare_data(self, stage=None):\n",
    "        if stage == \"fit\" or stage is None:\n",
    "            self.train_dataset = self._collect_data(self.train_triplets)\n",
    "            self.val_dataset = self._collect_data(self.val_triplets)\n",
    "        elif stage == \"test\" or stage is None:\n",
    "            self.test_dataset = self._collect_data(self.test_triplets)\n",
    "\n",
    "    def train_dataloader(self):\n",
    "        return td.DataLoader(self.train_dataset, batch_size=4096, shuffle=True, num_workers=0)\n",
    "\n",
    "    def val_dataloader(self):\n",
    "        return td.DataLoader(self.val_dataset, batch_size=4096, num_workers=0)\n",
    "    \n",
    "    def test_dataloader(self):\n",
    "        return td.DataLoader(self.test_dataset, batch_size=4096, shuffle=False, num_workers=0)"
   ]
  },
  {
   "cell_type": "code",
   "execution_count": 14,
   "id": "bb5fb5f1",
   "metadata": {},
   "outputs": [],
   "source": [
    "class ItemNet(nn.Module):\n",
    "    def __init__(self,\n",
    "        genre_number: int,\n",
    "        artist_number: int,\n",
    "        item_number: int,\n",
    "        emb_dim: int = 32,) -> None:\n",
    "        super().__init__()\n",
    "        self.genre_embeddings = nn.Embedding(genre_number + 1, emb_dim)\n",
    "        self.artist_embeddings = nn.Embedding(artist_number + 1, emb_dim)\n",
    "        self.track_embedddings = nn.Embedding(item_number + 1, emb_dim)\n",
    "\n",
    "    def forward(self, features) -> torch.Tensor:\n",
    "        emb = self.track_embedddings(features[:,0])\n",
    "        emb += self.artist_embeddings(features[:,2])\n",
    "        emb += self.genre_embeddings(features[:,1])\n",
    "        return emb\n",
    "\n",
    "class SessionedDSSM(pl.LightningModule):\n",
    "    def __init__(\n",
    "        self,\n",
    "        genre_number: int,\n",
    "        artist_number: int,\n",
    "        item_number: int,\n",
    "        user_number: int,\n",
    "        embedding_dim: int = 32,\n",
    "        lr: float = 1e-3,\n",
    "        triplet_loss_margin: float = 0.4,\n",
    "        weight_decay: float = 1e-6,\n",
    "        log_to_prog_bar: bool = True,\n",
    "    ) -> None:\n",
    "        super().__init__()\n",
    "        self.lr = lr\n",
    "        self.triplet_loss_margin = triplet_loss_margin\n",
    "        self.weight_decay = weight_decay\n",
    "        self.log_to_prog_bar = log_to_prog_bar\n",
    "        self.item_embeds = nn.EmbeddingBag(item_number+1, embedding_dim, padding_idx=item_number)\n",
    "        self.item_net = ItemNet(genre_number, artist_number, item_number, embedding_dim)\n",
    "        self.user_embeddings = nn.Embedding(user_number+1, embedding_dim*3)\n",
    "        self.embedding_dim = embedding_dim\n",
    "        \n",
    "    def user_embedding_by_start(self, users, start_embeddings):\n",
    "        user_embeddings = self.user_embeddings(users).reshape(-1, 3, self.embedding_dim)\n",
    "        with torch.no_grad():\n",
    "            ind = torch.argmin(F.pairwise_distance(start_embeddings[:,None,:], user_embeddings), dim=-1)\n",
    "        user_embeddings = user_embeddings[torch.arange(users.shape[0]),ind,:]\n",
    "        return user_embeddings\n",
    "\n",
    "    def forward(\n",
    "        self,\n",
    "        users: torch.Tensor,\n",
    "        starts: torch.Tensor,\n",
    "        positives: torch.Tensor,\n",
    "        negatives: torch.Tensor,\n",
    "    ) -> tp.Tuple[torch.Tensor, torch.Tensor, torch.Tensor]:\n",
    "        start = self.item_net(starts)\n",
    "        anchor = self.user_embedding_by_start(users, start)\n",
    "        pos = self.item_net(positives)\n",
    "        neg = self.item_net(negatives)\n",
    "        return anchor, start, pos, neg\n",
    "\n",
    "    def _step(self, batch, batch_idx, metric, prog_bar=False):\n",
    "        users, starts, positive, negative = batch\n",
    "        anchor, start, pos, neg = self(users, starts, positive, negative)\n",
    "        loss = F.triplet_margin_loss(anchor, pos, neg, margin=self.triplet_loss_margin)\n",
    "        loss += F.triplet_margin_loss(anchor, start, neg, margin=self.triplet_loss_margin)\n",
    "        self.log(metric, loss, prog_bar=prog_bar)\n",
    "        return loss\n",
    "\n",
    "    def training_step(self, batch: tp.Sequence[torch.Tensor], batch_idx: int) -> torch.Tensor:\n",
    "        return self._step(batch, batch_idx, \"train_loss\")\n",
    "\n",
    "    def validation_step(self, batch: tp.Sequence[torch.Tensor], batch_idx: int) -> torch.Tensor:\n",
    "        return self._step(batch, batch_idx, \"val_loss\", self.log_to_prog_bar)\n",
    "    \n",
    "    def test_step(self, batch, batch_idx, prog_bar=False):\n",
    "        return self._step(batch, batch_idx, \"test_loss\", self.log_to_prog_bar)\n",
    "\n",
    "    def configure_optimizers(self):\n",
    "        optimizer = torch.optim.Adam(self.parameters(), lr=self.lr, weight_decay=self.weight_decay)\n",
    "        lr_scheduler = torch.optim.lr_scheduler.ReduceLROnPlateau(optimizer, patience=5, verbose=True)\n",
    "        scheduler = {\n",
    "            'scheduler': lr_scheduler,\n",
    "            'monitor': 'val_loss'\n",
    "        }\n",
    "        return [optimizer], [scheduler]"
   ]
  },
  {
   "cell_type": "code",
   "execution_count": 15,
   "id": "e04be574",
   "metadata": {},
   "outputs": [],
   "source": [
    "genre_number = len(np.unique(item_features[\"genre\"]))\n",
    "artist_number = len(np.unique(item_features[\"artist\"]))\n",
    "track_number = 50000\n",
    "user_number = 10000"
   ]
  },
  {
   "cell_type": "code",
   "execution_count": 51,
   "id": "f768b970",
   "metadata": {},
   "outputs": [],
   "source": [
    "data_module = DSSMData(train_data, val_data, test_data, item_features)\n",
    "net = SessionedDSSM(genre_number, artist_number, track_number, user_number, embedding_dim=64)"
   ]
  },
  {
   "cell_type": "code",
   "execution_count": 52,
   "id": "de48e171",
   "metadata": {},
   "outputs": [
    {
     "name": "stderr",
     "output_type": "stream",
     "text": [
      "GPU available: True (cuda), used: True\n",
      "TPU available: False, using: 0 TPU cores\n",
      "IPU available: False, using: 0 IPUs\n",
      "HPU available: False, using: 0 HPUs\n"
     ]
    }
   ],
   "source": [
    "checkpoint_callback = pl.callbacks.ModelCheckpoint(dirpath=f\"{DATA_DIR}/checkpoints\", monitor=\"val_loss\")\n",
    "\n",
    "trainer = pl.Trainer(\n",
    "    max_epochs=50,\n",
    "    accelerator='gpu',\n",
    "    devices=1,\n",
    "    callbacks=[\n",
    "        pl.callbacks.early_stopping.EarlyStopping(monitor=\"val_loss\", patience=10),\n",
    "        pl.callbacks.LearningRateMonitor(logging_interval=\"step\"),\n",
    "        checkpoint_callback,\n",
    "])"
   ]
  },
  {
   "cell_type": "code",
   "execution_count": 53,
   "id": "3bf5a110",
   "metadata": {},
   "outputs": [
    {
     "name": "stderr",
     "output_type": "stream",
     "text": [
      "D:\\c23\\envs\\lucky\\lib\\site-packages\\pytorch_lightning\\callbacks\\model_checkpoint.py:634: Checkpoint directory ./data/checkpoints exists and is not empty.\n",
      "LOCAL_RANK: 0 - CUDA_VISIBLE_DEVICES: [0]\n",
      "\n",
      "  | Name            | Type         | Params\n",
      "-------------------------------------------------\n",
      "0 | item_embeds     | EmbeddingBag | 3.2 M \n",
      "1 | item_net        | ItemNet      | 4.0 M \n",
      "2 | user_embeddings | Embedding    | 1.9 M \n",
      "-------------------------------------------------\n",
      "9.1 M     Trainable params\n",
      "0         Non-trainable params\n",
      "9.1 M     Total params\n",
      "36.438    Total estimated model params size (MB)\n"
     ]
    },
    {
     "data": {
      "application/vnd.jupyter.widget-view+json": {
       "model_id": "",
       "version_major": 2,
       "version_minor": 0
      },
      "text/plain": [
       "Sanity Checking: |                                                                               | 0/? [00:00<…"
      ]
     },
     "metadata": {},
     "output_type": "display_data"
    },
    {
     "name": "stderr",
     "output_type": "stream",
     "text": [
      "D:\\c23\\envs\\lucky\\lib\\site-packages\\pytorch_lightning\\trainer\\connectors\\data_connector.py:441: The 'val_dataloader' does not have many workers which may be a bottleneck. Consider increasing the value of the `num_workers` argument` to `num_workers=11` in the `DataLoader` to improve performance.\n",
      "D:\\c23\\envs\\lucky\\lib\\site-packages\\pytorch_lightning\\trainer\\connectors\\data_connector.py:441: The 'train_dataloader' does not have many workers which may be a bottleneck. Consider increasing the value of the `num_workers` argument` to `num_workers=11` in the `DataLoader` to improve performance.\n"
     ]
    },
    {
     "data": {
      "application/vnd.jupyter.widget-view+json": {
       "model_id": "c1a052c149084bbdb778dd183f3bfe33",
       "version_major": 2,
       "version_minor": 0
      },
      "text/plain": [
       "Training: |                                                                                      | 0/? [00:00<…"
      ]
     },
     "metadata": {},
     "output_type": "display_data"
    },
    {
     "data": {
      "application/vnd.jupyter.widget-view+json": {
       "model_id": "",
       "version_major": 2,
       "version_minor": 0
      },
      "text/plain": [
       "Validation: |                                                                                    | 0/? [00:00<…"
      ]
     },
     "metadata": {},
     "output_type": "display_data"
    },
    {
     "data": {
      "application/vnd.jupyter.widget-view+json": {
       "model_id": "",
       "version_major": 2,
       "version_minor": 0
      },
      "text/plain": [
       "Validation: |                                                                                    | 0/? [00:00<…"
      ]
     },
     "metadata": {},
     "output_type": "display_data"
    },
    {
     "data": {
      "application/vnd.jupyter.widget-view+json": {
       "model_id": "",
       "version_major": 2,
       "version_minor": 0
      },
      "text/plain": [
       "Validation: |                                                                                    | 0/? [00:00<…"
      ]
     },
     "metadata": {},
     "output_type": "display_data"
    },
    {
     "data": {
      "application/vnd.jupyter.widget-view+json": {
       "model_id": "",
       "version_major": 2,
       "version_minor": 0
      },
      "text/plain": [
       "Validation: |                                                                                    | 0/? [00:00<…"
      ]
     },
     "metadata": {},
     "output_type": "display_data"
    },
    {
     "data": {
      "application/vnd.jupyter.widget-view+json": {
       "model_id": "",
       "version_major": 2,
       "version_minor": 0
      },
      "text/plain": [
       "Validation: |                                                                                    | 0/? [00:00<…"
      ]
     },
     "metadata": {},
     "output_type": "display_data"
    },
    {
     "data": {
      "application/vnd.jupyter.widget-view+json": {
       "model_id": "",
       "version_major": 2,
       "version_minor": 0
      },
      "text/plain": [
       "Validation: |                                                                                    | 0/? [00:00<…"
      ]
     },
     "metadata": {},
     "output_type": "display_data"
    },
    {
     "data": {
      "application/vnd.jupyter.widget-view+json": {
       "model_id": "",
       "version_major": 2,
       "version_minor": 0
      },
      "text/plain": [
       "Validation: |                                                                                    | 0/? [00:00<…"
      ]
     },
     "metadata": {},
     "output_type": "display_data"
    },
    {
     "data": {
      "application/vnd.jupyter.widget-view+json": {
       "model_id": "",
       "version_major": 2,
       "version_minor": 0
      },
      "text/plain": [
       "Validation: |                                                                                    | 0/? [00:00<…"
      ]
     },
     "metadata": {},
     "output_type": "display_data"
    },
    {
     "data": {
      "application/vnd.jupyter.widget-view+json": {
       "model_id": "",
       "version_major": 2,
       "version_minor": 0
      },
      "text/plain": [
       "Validation: |                                                                                    | 0/? [00:00<…"
      ]
     },
     "metadata": {},
     "output_type": "display_data"
    },
    {
     "data": {
      "application/vnd.jupyter.widget-view+json": {
       "model_id": "",
       "version_major": 2,
       "version_minor": 0
      },
      "text/plain": [
       "Validation: |                                                                                    | 0/? [00:00<…"
      ]
     },
     "metadata": {},
     "output_type": "display_data"
    },
    {
     "data": {
      "application/vnd.jupyter.widget-view+json": {
       "model_id": "",
       "version_major": 2,
       "version_minor": 0
      },
      "text/plain": [
       "Validation: |                                                                                    | 0/? [00:00<…"
      ]
     },
     "metadata": {},
     "output_type": "display_data"
    },
    {
     "data": {
      "application/vnd.jupyter.widget-view+json": {
       "model_id": "",
       "version_major": 2,
       "version_minor": 0
      },
      "text/plain": [
       "Validation: |                                                                                    | 0/? [00:00<…"
      ]
     },
     "metadata": {},
     "output_type": "display_data"
    },
    {
     "data": {
      "application/vnd.jupyter.widget-view+json": {
       "model_id": "",
       "version_major": 2,
       "version_minor": 0
      },
      "text/plain": [
       "Validation: |                                                                                    | 0/? [00:00<…"
      ]
     },
     "metadata": {},
     "output_type": "display_data"
    },
    {
     "data": {
      "application/vnd.jupyter.widget-view+json": {
       "model_id": "",
       "version_major": 2,
       "version_minor": 0
      },
      "text/plain": [
       "Validation: |                                                                                    | 0/? [00:00<…"
      ]
     },
     "metadata": {},
     "output_type": "display_data"
    },
    {
     "data": {
      "application/vnd.jupyter.widget-view+json": {
       "model_id": "",
       "version_major": 2,
       "version_minor": 0
      },
      "text/plain": [
       "Validation: |                                                                                    | 0/? [00:00<…"
      ]
     },
     "metadata": {},
     "output_type": "display_data"
    },
    {
     "data": {
      "application/vnd.jupyter.widget-view+json": {
       "model_id": "",
       "version_major": 2,
       "version_minor": 0
      },
      "text/plain": [
       "Validation: |                                                                                    | 0/? [00:00<…"
      ]
     },
     "metadata": {},
     "output_type": "display_data"
    },
    {
     "data": {
      "application/vnd.jupyter.widget-view+json": {
       "model_id": "",
       "version_major": 2,
       "version_minor": 0
      },
      "text/plain": [
       "Validation: |                                                                                    | 0/? [00:00<…"
      ]
     },
     "metadata": {},
     "output_type": "display_data"
    },
    {
     "data": {
      "application/vnd.jupyter.widget-view+json": {
       "model_id": "",
       "version_major": 2,
       "version_minor": 0
      },
      "text/plain": [
       "Validation: |                                                                                    | 0/? [00:00<…"
      ]
     },
     "metadata": {},
     "output_type": "display_data"
    },
    {
     "data": {
      "application/vnd.jupyter.widget-view+json": {
       "model_id": "",
       "version_major": 2,
       "version_minor": 0
      },
      "text/plain": [
       "Validation: |                                                                                    | 0/? [00:00<…"
      ]
     },
     "metadata": {},
     "output_type": "display_data"
    },
    {
     "data": {
      "application/vnd.jupyter.widget-view+json": {
       "model_id": "",
       "version_major": 2,
       "version_minor": 0
      },
      "text/plain": [
       "Validation: |                                                                                    | 0/? [00:00<…"
      ]
     },
     "metadata": {},
     "output_type": "display_data"
    },
    {
     "data": {
      "application/vnd.jupyter.widget-view+json": {
       "model_id": "",
       "version_major": 2,
       "version_minor": 0
      },
      "text/plain": [
       "Validation: |                                                                                    | 0/? [00:00<…"
      ]
     },
     "metadata": {},
     "output_type": "display_data"
    },
    {
     "data": {
      "application/vnd.jupyter.widget-view+json": {
       "model_id": "",
       "version_major": 2,
       "version_minor": 0
      },
      "text/plain": [
       "Validation: |                                                                                    | 0/? [00:00<…"
      ]
     },
     "metadata": {},
     "output_type": "display_data"
    },
    {
     "data": {
      "application/vnd.jupyter.widget-view+json": {
       "model_id": "",
       "version_major": 2,
       "version_minor": 0
      },
      "text/plain": [
       "Validation: |                                                                                    | 0/? [00:00<…"
      ]
     },
     "metadata": {},
     "output_type": "display_data"
    },
    {
     "data": {
      "application/vnd.jupyter.widget-view+json": {
       "model_id": "",
       "version_major": 2,
       "version_minor": 0
      },
      "text/plain": [
       "Validation: |                                                                                    | 0/? [00:00<…"
      ]
     },
     "metadata": {},
     "output_type": "display_data"
    },
    {
     "data": {
      "application/vnd.jupyter.widget-view+json": {
       "model_id": "",
       "version_major": 2,
       "version_minor": 0
      },
      "text/plain": [
       "Validation: |                                                                                    | 0/? [00:00<…"
      ]
     },
     "metadata": {},
     "output_type": "display_data"
    },
    {
     "data": {
      "application/vnd.jupyter.widget-view+json": {
       "model_id": "",
       "version_major": 2,
       "version_minor": 0
      },
      "text/plain": [
       "Validation: |                                                                                    | 0/? [00:00<…"
      ]
     },
     "metadata": {},
     "output_type": "display_data"
    },
    {
     "data": {
      "application/vnd.jupyter.widget-view+json": {
       "model_id": "",
       "version_major": 2,
       "version_minor": 0
      },
      "text/plain": [
       "Validation: |                                                                                    | 0/? [00:00<…"
      ]
     },
     "metadata": {},
     "output_type": "display_data"
    },
    {
     "data": {
      "application/vnd.jupyter.widget-view+json": {
       "model_id": "",
       "version_major": 2,
       "version_minor": 0
      },
      "text/plain": [
       "Validation: |                                                                                    | 0/? [00:00<…"
      ]
     },
     "metadata": {},
     "output_type": "display_data"
    },
    {
     "data": {
      "application/vnd.jupyter.widget-view+json": {
       "model_id": "",
       "version_major": 2,
       "version_minor": 0
      },
      "text/plain": [
       "Validation: |                                                                                    | 0/? [00:00<…"
      ]
     },
     "metadata": {},
     "output_type": "display_data"
    },
    {
     "data": {
      "application/vnd.jupyter.widget-view+json": {
       "model_id": "",
       "version_major": 2,
       "version_minor": 0
      },
      "text/plain": [
       "Validation: |                                                                                    | 0/? [00:00<…"
      ]
     },
     "metadata": {},
     "output_type": "display_data"
    },
    {
     "data": {
      "application/vnd.jupyter.widget-view+json": {
       "model_id": "",
       "version_major": 2,
       "version_minor": 0
      },
      "text/plain": [
       "Validation: |                                                                                    | 0/? [00:00<…"
      ]
     },
     "metadata": {},
     "output_type": "display_data"
    },
    {
     "data": {
      "application/vnd.jupyter.widget-view+json": {
       "model_id": "",
       "version_major": 2,
       "version_minor": 0
      },
      "text/plain": [
       "Validation: |                                                                                    | 0/? [00:00<…"
      ]
     },
     "metadata": {},
     "output_type": "display_data"
    },
    {
     "data": {
      "application/vnd.jupyter.widget-view+json": {
       "model_id": "",
       "version_major": 2,
       "version_minor": 0
      },
      "text/plain": [
       "Validation: |                                                                                    | 0/? [00:00<…"
      ]
     },
     "metadata": {},
     "output_type": "display_data"
    },
    {
     "data": {
      "application/vnd.jupyter.widget-view+json": {
       "model_id": "",
       "version_major": 2,
       "version_minor": 0
      },
      "text/plain": [
       "Validation: |                                                                                    | 0/? [00:00<…"
      ]
     },
     "metadata": {},
     "output_type": "display_data"
    },
    {
     "data": {
      "application/vnd.jupyter.widget-view+json": {
       "model_id": "",
       "version_major": 2,
       "version_minor": 0
      },
      "text/plain": [
       "Validation: |                                                                                    | 0/? [00:00<…"
      ]
     },
     "metadata": {},
     "output_type": "display_data"
    },
    {
     "data": {
      "application/vnd.jupyter.widget-view+json": {
       "model_id": "",
       "version_major": 2,
       "version_minor": 0
      },
      "text/plain": [
       "Validation: |                                                                                    | 0/? [00:00<…"
      ]
     },
     "metadata": {},
     "output_type": "display_data"
    },
    {
     "data": {
      "application/vnd.jupyter.widget-view+json": {
       "model_id": "",
       "version_major": 2,
       "version_minor": 0
      },
      "text/plain": [
       "Validation: |                                                                                    | 0/? [00:00<…"
      ]
     },
     "metadata": {},
     "output_type": "display_data"
    },
    {
     "data": {
      "application/vnd.jupyter.widget-view+json": {
       "model_id": "",
       "version_major": 2,
       "version_minor": 0
      },
      "text/plain": [
       "Validation: |                                                                                    | 0/? [00:00<…"
      ]
     },
     "metadata": {},
     "output_type": "display_data"
    },
    {
     "data": {
      "application/vnd.jupyter.widget-view+json": {
       "model_id": "",
       "version_major": 2,
       "version_minor": 0
      },
      "text/plain": [
       "Validation: |                                                                                    | 0/? [00:00<…"
      ]
     },
     "metadata": {},
     "output_type": "display_data"
    },
    {
     "data": {
      "application/vnd.jupyter.widget-view+json": {
       "model_id": "",
       "version_major": 2,
       "version_minor": 0
      },
      "text/plain": [
       "Validation: |                                                                                    | 0/? [00:00<…"
      ]
     },
     "metadata": {},
     "output_type": "display_data"
    },
    {
     "data": {
      "application/vnd.jupyter.widget-view+json": {
       "model_id": "",
       "version_major": 2,
       "version_minor": 0
      },
      "text/plain": [
       "Validation: |                                                                                    | 0/? [00:00<…"
      ]
     },
     "metadata": {},
     "output_type": "display_data"
    },
    {
     "data": {
      "application/vnd.jupyter.widget-view+json": {
       "model_id": "",
       "version_major": 2,
       "version_minor": 0
      },
      "text/plain": [
       "Validation: |                                                                                    | 0/? [00:00<…"
      ]
     },
     "metadata": {},
     "output_type": "display_data"
    },
    {
     "data": {
      "application/vnd.jupyter.widget-view+json": {
       "model_id": "",
       "version_major": 2,
       "version_minor": 0
      },
      "text/plain": [
       "Validation: |                                                                                    | 0/? [00:00<…"
      ]
     },
     "metadata": {},
     "output_type": "display_data"
    },
    {
     "data": {
      "application/vnd.jupyter.widget-view+json": {
       "model_id": "",
       "version_major": 2,
       "version_minor": 0
      },
      "text/plain": [
       "Validation: |                                                                                    | 0/? [00:00<…"
      ]
     },
     "metadata": {},
     "output_type": "display_data"
    },
    {
     "data": {
      "application/vnd.jupyter.widget-view+json": {
       "model_id": "",
       "version_major": 2,
       "version_minor": 0
      },
      "text/plain": [
       "Validation: |                                                                                    | 0/? [00:00<…"
      ]
     },
     "metadata": {},
     "output_type": "display_data"
    },
    {
     "data": {
      "application/vnd.jupyter.widget-view+json": {
       "model_id": "",
       "version_major": 2,
       "version_minor": 0
      },
      "text/plain": [
       "Validation: |                                                                                    | 0/? [00:00<…"
      ]
     },
     "metadata": {},
     "output_type": "display_data"
    },
    {
     "data": {
      "application/vnd.jupyter.widget-view+json": {
       "model_id": "",
       "version_major": 2,
       "version_minor": 0
      },
      "text/plain": [
       "Validation: |                                                                                    | 0/? [00:00<…"
      ]
     },
     "metadata": {},
     "output_type": "display_data"
    },
    {
     "data": {
      "application/vnd.jupyter.widget-view+json": {
       "model_id": "",
       "version_major": 2,
       "version_minor": 0
      },
      "text/plain": [
       "Validation: |                                                                                    | 0/? [00:00<…"
      ]
     },
     "metadata": {},
     "output_type": "display_data"
    },
    {
     "data": {
      "application/vnd.jupyter.widget-view+json": {
       "model_id": "",
       "version_major": 2,
       "version_minor": 0
      },
      "text/plain": [
       "Validation: |                                                                                    | 0/? [00:00<…"
      ]
     },
     "metadata": {},
     "output_type": "display_data"
    },
    {
     "data": {
      "application/vnd.jupyter.widget-view+json": {
       "model_id": "",
       "version_major": 2,
       "version_minor": 0
      },
      "text/plain": [
       "Validation: |                                                                                    | 0/? [00:00<…"
      ]
     },
     "metadata": {},
     "output_type": "display_data"
    },
    {
     "name": "stderr",
     "output_type": "stream",
     "text": [
      "`Trainer.fit` stopped: `max_epochs=50` reached.\n"
     ]
    }
   ],
   "source": [
    "trainer.fit(\n",
    "    net,\n",
    "    data_module\n",
    ")"
   ]
  },
  {
   "cell_type": "code",
   "execution_count": null,
   "id": "3ed3be86",
   "metadata": {},
   "outputs": [],
   "source": [
    "data_module.prepare_data(\"test\")\n",
    "trainer.test(ckpt_path=\"best\", dataloaders=data_module.test_dataloader())"
   ]
  },
  {
   "cell_type": "code",
   "execution_count": null,
   "id": "e27b6958",
   "metadata": {},
   "outputs": [],
   "source": [
    "checkpoint_callback.best_model_path"
   ]
  },
  {
   "cell_type": "markdown",
   "id": "4470a4e0",
   "metadata": {},
   "source": [
    "'./data/checkpoints\\\\epoch=26-step=21978.ckpt'"
   ]
  },
  {
   "cell_type": "code",
   "execution_count": 16,
   "id": "7a120219",
   "metadata": {},
   "outputs": [],
   "source": [
    "best = SessionedDSSM.load_from_checkpoint('./data/checkpoints/epoch=49-step=32200.ckpt', genre_number=genre_number, artist_number=artist_number, item_number=track_number, user_number=user_number, embedding_dim=64)"
   ]
  },
  {
   "cell_type": "code",
   "execution_count": 17,
   "id": "1ca93d6e",
   "metadata": {},
   "outputs": [],
   "source": [
    "device = torch.device(\"cuda\")\n",
    "best = best.to(device)"
   ]
  },
  {
   "cell_type": "code",
   "execution_count": 19,
   "id": "458562ad",
   "metadata": {},
   "outputs": [],
   "source": [
    "with torch.no_grad():\n",
    "    item_embeds = best.item_net(torch.from_numpy(item_features.values).to(device)).cpu()"
   ]
  },
  {
   "cell_type": "code",
   "execution_count": 20,
   "id": "f0380c57",
   "metadata": {},
   "outputs": [
    {
     "data": {
      "text/plain": [
       "tensor([[-2.3135e-02,  2.8014e-01,  2.0678e-01,  ..., -1.7322e-01,\n",
       "         -1.9742e-02, -2.8156e-01],\n",
       "        [ 9.6068e-02, -1.1737e-01, -2.1915e-01,  ...,  9.9605e-02,\n",
       "          8.0314e-02,  2.2179e-02],\n",
       "        [ 2.8117e-03,  6.8514e-03,  3.3315e-02,  ...,  3.8978e-04,\n",
       "         -7.5968e-02, -4.1691e-02],\n",
       "        ...,\n",
       "        [ 6.5128e-02,  7.3491e-01, -2.6803e-01,  ...,  1.1308e-01,\n",
       "          2.3676e-02,  1.4862e-02],\n",
       "        [-9.3441e-02,  5.1142e-01,  2.2801e-01,  ...,  2.1516e-01,\n",
       "         -9.2805e-02,  6.0926e-02],\n",
       "        [ 8.9297e-02,  6.1818e-01,  3.3492e-01,  ...,  4.3432e-01,\n",
       "          8.0773e-02, -1.7692e-02]])"
      ]
     },
     "execution_count": 20,
     "metadata": {},
     "output_type": "execute_result"
    }
   ],
   "source": [
    "item_embeds"
   ]
  },
  {
   "cell_type": "code",
   "execution_count": 21,
   "id": "122f4aba",
   "metadata": {},
   "outputs": [],
   "source": [
    "gpu_res = faiss.StandardGpuResources()\n",
    "index = faiss.index_factory(64, \"Flat\", faiss.METRIC_L2)\n",
    "# index = faiss.IndexFlatIP(64)\n",
    "index = faiss.index_cpu_to_gpu(gpu_res, 0, index)\n",
    "\n",
    "index.add(item_embeds)"
   ]
  },
  {
   "cell_type": "code",
   "execution_count": 26,
   "id": "2b569864",
   "metadata": {},
   "outputs": [
    {
     "data": {
      "application/vnd.jupyter.widget-view+json": {
       "model_id": "09973e880cdc4c3ca3f375981ff757b2",
       "version_major": 2,
       "version_minor": 0
      },
      "text/plain": [
       "  0%|          | 0/10000 [00:00<?, ?it/s]"
      ]
     },
     "metadata": {},
     "output_type": "display_data"
    }
   ],
   "source": [
    "with open(f\"../../botify/data/recommendations_sessioned.json\", \"w\") as rf:\n",
    "    for user in tqdm(range(user_number)):\n",
    "        with torch.no_grad():\n",
    "            users = torch.zeros((1, 1), dtype=int) + user\n",
    "            embeds = best.user_embeddings(users.to(device)).reshape(3, 64).cpu()\n",
    "            _, tracks = index.search(embeds, k=50)\n",
    "            recommendation = {\n",
    "                \"user\": int(user),\n",
    "                \"tracks\": tracks.tolist()\n",
    "            }\n",
    "            rf.write(json.dumps(recommendation) + \"\\n\")"
   ]
  }
 ],
 "metadata": {
  "kernelspec": {
   "display_name": "Python 3 (ipykernel)",
   "language": "python",
   "name": "python3"
  },
  "language_info": {
   "codemirror_mode": {
    "name": "ipython",
    "version": 3
   },
   "file_extension": ".py",
   "mimetype": "text/x-python",
   "name": "python",
   "nbconvert_exporter": "python",
   "pygments_lexer": "ipython3",
   "version": "3.8.16"
  }
 },
 "nbformat": 4,
 "nbformat_minor": 5
}
