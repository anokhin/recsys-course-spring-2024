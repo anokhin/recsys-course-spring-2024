{
 "cells": [
  {
   "cell_type": "markdown",
   "metadata": {},
   "source": [
    "### Data preprocessing"
   ]
  },
  {
   "cell_type": "code",
   "execution_count": 16,
   "metadata": {},
   "outputs": [],
   "source": [
    "import pandas as pd\n",
    "import numpy as np\n",
    "\n",
    "import scipy.stats as ss\n",
    "from sklearn.metrics import ndcg_score"
   ]
  },
  {
   "cell_type": "code",
   "execution_count": 17,
   "metadata": {},
   "outputs": [],
   "source": [
    "train_df = pd.read_csv('/Users/nadys/recsys/hw01_data/train.csv')\n",
    "test_df = pd.read_csv('/Users/nadys/recsys/hw01_data/test.csv')"
   ]
  },
  {
   "cell_type": "code",
   "execution_count": 18,
   "metadata": {},
   "outputs": [],
   "source": [
    "np.random.seed(42)\n",
    "train_df['rnd'] = np.random.random(len(train_df))"
   ]
  },
  {
   "cell_type": "code",
   "execution_count": 19,
   "metadata": {},
   "outputs": [
    {
     "data": {
      "text/plain": [
       "(10000, 50000)"
      ]
     },
     "execution_count": 19,
     "metadata": {},
     "output_type": "execute_result"
    }
   ],
   "source": [
    "users = sorted(set(train_df['user']))\n",
    "tracks = sorted(set(train_df['track']))\n",
    "len(users), len(tracks)"
   ]
  },
  {
   "cell_type": "code",
   "execution_count": 20,
   "metadata": {},
   "outputs": [],
   "source": [
    "user_to_id = dict()\n",
    "id_to_user = dict()\n",
    "for i, u in enumerate(users):\n",
    "    user_to_id[u] = i\n",
    "    id_to_user[i] = u"
   ]
  },
  {
   "cell_type": "code",
   "execution_count": 21,
   "metadata": {},
   "outputs": [],
   "source": [
    "train_users_ids = [user_to_id[u] for u in train_df['user']]\n",
    "test_users_ids = [user_to_id[u] for u in test_df['user']]"
   ]
  },
  {
   "cell_type": "code",
   "execution_count": 22,
   "metadata": {},
   "outputs": [],
   "source": [
    "train_df['user_id'] = train_users_ids\n",
    "test_df['user_id'] = test_users_ids"
   ]
  },
  {
   "cell_type": "code",
   "execution_count": 23,
   "metadata": {},
   "outputs": [],
   "source": [
    "good_train_df = train_df[train_df['time'] > 0.5].copy()"
   ]
  },
  {
   "cell_type": "markdown",
   "metadata": {},
   "source": [
    "##  lightfm"
   ]
  },
  {
   "cell_type": "code",
   "execution_count": 24,
   "metadata": {},
   "outputs": [],
   "source": [
    "import lightfm\n",
    "import lightfm.data as ld\n",
    "import lightfm.evaluation as lv"
   ]
  },
  {
   "cell_type": "code",
   "execution_count": 25,
   "metadata": {},
   "outputs": [],
   "source": [
    "good_train_df = train_df[train_df['time'] > 0.65].copy()"
   ]
  },
  {
   "cell_type": "markdown",
   "metadata": {},
   "source": [
    "v30 0.6\n",
    "\n",
    "v32 0.55\n",
    "\n",
    "v33 0.65\n",
    "\n",
    "v34 0.50\n",
    "\n",
    "v35 0.70\n",
    "\n",
    "v36 new hyperparams 0.65\n",
    "\n",
    "v37 no_components 40\n",
    "\n",
    "v38 no_components 80"
   ]
  },
  {
   "cell_type": "code",
   "execution_count": 26,
   "metadata": {},
   "outputs": [],
   "source": [
    "dataset = ld.Dataset()\n",
    "dataset.fit(users, tracks)\n",
    "\n",
    "all_interactions, _ = dataset.build_interactions(good_train_df[['user', 'track']].itertuples(index=False, name=None))"
   ]
  },
  {
   "cell_type": "markdown",
   "metadata": {},
   "source": [
    "   0.941\n",
    "   \n",
    "   no_components=50,\n",
    "    loss='warp',\n",
    "    learning_rate=0.01,\n",
    "    max_sampled=50,\n",
    "    user_alpha=0.0,\n",
    "    item_alpha=0.0001"
   ]
  },
  {
   "cell_type": "code",
   "execution_count": 27,
   "metadata": {},
   "outputs": [
    {
     "name": "stderr",
     "output_type": "stream",
     "text": [
      "Epoch: 100%|██████████| 400/400 [16:50<00:00,  2.53s/it]\n"
     ]
    },
    {
     "data": {
      "text/plain": [
       "<lightfm.lightfm.LightFM at 0x1552ebd00>"
      ]
     },
     "execution_count": 27,
     "metadata": {},
     "output_type": "execute_result"
    }
   ],
   "source": [
    "model = lightfm.LightFM(\n",
    "    no_components=120,\n",
    "    loss='warp',\n",
    "    learning_rate=0.01,\n",
    "    max_sampled=50,\n",
    "    user_alpha=0.0,\n",
    "    item_alpha=0.0001\n",
    ")\n",
    "\n",
    "model.fit(all_interactions, epochs=400, verbose=True, num_threads=8)"
   ]
  },
  {
   "cell_type": "markdown",
   "metadata": {},
   "source": [
    "# Exporting results"
   ]
  },
  {
   "cell_type": "code",
   "execution_count": 28,
   "metadata": {},
   "outputs": [],
   "source": [
    "submission_users_ids = np.array(test_users_ids)\n",
    "submission_items_ids = np.array([test_df['track']]).flatten()"
   ]
  },
  {
   "cell_type": "code",
   "execution_count": 29,
   "metadata": {},
   "outputs": [
    {
     "data": {
      "text/plain": [
       "array([ 1.0187615, -1.0247685, -1.1493014, ..., -2.01624  , -1.1689632,\n",
       "       -1.6350068], dtype=float32)"
      ]
     },
     "execution_count": 29,
     "metadata": {},
     "output_type": "execute_result"
    }
   ],
   "source": [
    "predictions = model.predict(submission_users_ids, submission_items_ids)\n",
    "predictions"
   ]
  },
  {
   "cell_type": "code",
   "execution_count": 30,
   "metadata": {},
   "outputs": [],
   "source": [
    "res_df = test_df[['user', 'track']].copy()\n",
    "res_df['score'] = predictions\n",
    "res_df.to_csv('submission_v51.csv', index=False)"
   ]
  }
 ],
 "metadata": {
  "kernelspec": {
   "display_name": "dl-course-v1",
   "language": "python",
   "name": "python3"
  },
  "language_info": {
   "codemirror_mode": {
    "name": "ipython",
    "version": 3
   },
   "file_extension": ".py",
   "mimetype": "text/x-python",
   "name": "python",
   "nbconvert_exporter": "python",
   "pygments_lexer": "ipython3",
   "version": "3.10.13"
  }
 },
 "nbformat": 4,
 "nbformat_minor": 2
}
