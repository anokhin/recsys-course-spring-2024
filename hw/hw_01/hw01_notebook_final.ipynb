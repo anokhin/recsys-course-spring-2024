{
 "cells": [
  {
   "cell_type": "code",
   "execution_count": 48,
   "metadata": {},
   "outputs": [],
   "source": [
    "import pandas as pd\n",
    "import numpy as np\n",
    "\n",
    "from sklearn.ensemble import VotingRegressor"
   ]
  },
  {
   "cell_type": "code",
   "execution_count": 49,
   "metadata": {},
   "outputs": [],
   "source": [
    "svd_test_df = pd.read_csv('submission_v63.csv')\n",
    "svd_test_pred = np.array(svd_test_df['score'])\n",
    "svd_test_pred_normalized = (svd_test_pred - svd_test_pred.mean()) / svd_test_pred.std()"
   ]
  },
  {
   "cell_type": "code",
   "execution_count": 50,
   "metadata": {},
   "outputs": [],
   "source": [
    "lfm_test_df = pd.read_csv('submission_v51.csv')\n",
    "lfm_test_pred = np.array(lfm_test_df['score'])\n",
    "lfm_test_pred_normalized = (lfm_test_pred - lfm_test_pred.mean()) / lfm_test_pred.std()"
   ]
  },
  {
   "cell_type": "code",
   "execution_count": 51,
   "metadata": {},
   "outputs": [],
   "source": [
    "# lfm2_test_df = pd.read_csv('submission_v36.csv')\n",
    "# lfm2_test_pred = np.array(lfm2_test_df['score'])\n",
    "# lfm2_test_pred_normalized = (lfm2_test_pred - lfm2_test_pred.mean()) / lfm2_test_pred.std()"
   ]
  },
  {
   "cell_type": "code",
   "execution_count": 52,
   "metadata": {},
   "outputs": [],
   "source": [
    "new_scores = 0.5 * svd_test_pred_normalized + 0.5 * lfm_test_pred_normalized\n",
    "# + 0.3 * lfm2_test_pred_normalized"
   ]
  },
  {
   "cell_type": "code",
   "execution_count": 53,
   "metadata": {},
   "outputs": [],
   "source": [
    "test_df = pd.read_csv('/Users/nadys/recsys/hw01_data/test.csv')"
   ]
  },
  {
   "cell_type": "code",
   "execution_count": 54,
   "metadata": {},
   "outputs": [],
   "source": [
    "res_df = test_df[['user', 'track']].copy()\n",
    "res_df['score'] = new_scores\n",
    "res_df.to_csv('submission_v77.csv', index=False)"
   ]
  },
  {
   "cell_type": "code",
   "execution_count": 55,
   "metadata": {},
   "outputs": [],
   "source": [
    "# v71 = 0.20 * svd + 0.80 * lfm\n",
    "# v72 = 0.25 * svd + 0.75 * lfm best\n",
    "# v73 = 0.30 * svd + 0.70 * lfm\n",
    "# v74 = 0.35 * svd + 0.65 * lfm\n",
    "# v75 = 0.40 * svd + 0.60 * lfm\n",
    "# v76 = 0.45 * svd + 0.55 * lfm\n",
    "# v77 = 0.50 * svd + 0.50 * lfm"
   ]
  }
 ],
 "metadata": {
  "kernelspec": {
   "display_name": "recsys-course-v2",
   "language": "python",
   "name": "python3"
  },
  "language_info": {
   "codemirror_mode": {
    "name": "ipython",
    "version": 3
   },
   "file_extension": ".py",
   "mimetype": "text/x-python",
   "name": "python",
   "nbconvert_exporter": "python",
   "pygments_lexer": "ipython3",
   "version": "3.10.13"
  }
 },
 "nbformat": 4,
 "nbformat_minor": 2
}
