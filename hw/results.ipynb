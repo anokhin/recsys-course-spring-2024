{
 "cells": [
  {
   "cell_type": "markdown",
   "metadata": {},
   "source": [
    "# Week 1 Seminar\n",
    "\n",
    "A/B experiment analysis"
   ]
  },
  {
   "cell_type": "code",
   "execution_count": 1,
   "metadata": {
    "tags": []
   },
   "outputs": [],
   "source": [
    "import glob\n",
    "from collections import namedtuple\n",
    "\n",
    "import pandas as pd\n",
    "import numpy as np\n",
    "import scipy.stats as ss\n",
    "\n",
    "import matplotlib.pyplot as plt\n",
    "\n",
    "pd.set_option(\"display.precision\", 3)\n",
    "\n",
    "%matplotlib inline"
   ]
  },
  {
   "cell_type": "code",
   "execution_count": 2,
   "metadata": {
    "tags": []
   },
   "outputs": [],
   "source": [
    "experiment = \"HW2\""
   ]
  },
  {
   "cell_type": "code",
   "execution_count": 3,
   "metadata": {},
   "outputs": [
    {
     "name": "stdout",
     "output_type": "stream",
     "text": [
      "/home/stephen/Desktop/data/botify-recommender-1/data.json\n",
      "/home/stephen/Desktop/data/botify-recommender-2/data.json\n"
     ]
    }
   ],
   "source": [
    "files = glob.glob(\"/home/stephen/Desktop/data/*/data.json\")\n",
    "for file_name in files:\n",
    "    print(file_name)\n",
    "\n",
    "assert len(files) > 0"
   ]
  },
  {
   "cell_type": "code",
   "execution_count": 4,
   "metadata": {
    "tags": []
   },
   "outputs": [],
   "source": [
    "data = pd.concat([\n",
    "    pd.read_json(data_path, lines=True)\n",
    "    for data_path\n",
    "    in glob.glob(\"/home/stephen/Desktop/data/*/data.json\")\n",
    "])\n",
    "\n",
    "data[\"treatment\"] = data[\"experiments\"].map(lambda experiments: experiments[experiment])"
   ]
  },
  {
   "cell_type": "code",
   "execution_count": 5,
   "metadata": {
    "tags": []
   },
   "outputs": [
    {
     "data": {
      "text/html": [
       "<div>\n",
       "<style scoped>\n",
       "    .dataframe tbody tr th:only-of-type {\n",
       "        vertical-align: middle;\n",
       "    }\n",
       "\n",
       "    .dataframe tbody tr th {\n",
       "        vertical-align: top;\n",
       "    }\n",
       "\n",
       "    .dataframe thead th {\n",
       "        text-align: right;\n",
       "    }\n",
       "</style>\n",
       "<table border=\"1\" class=\"dataframe\">\n",
       "  <thead>\n",
       "    <tr style=\"text-align: right;\">\n",
       "      <th></th>\n",
       "      <th>message</th>\n",
       "      <th>timestamp</th>\n",
       "      <th>user</th>\n",
       "      <th>track</th>\n",
       "      <th>time</th>\n",
       "      <th>latency</th>\n",
       "      <th>recommendation</th>\n",
       "      <th>experiments</th>\n",
       "    </tr>\n",
       "    <tr>\n",
       "      <th>treatment</th>\n",
       "      <th></th>\n",
       "      <th></th>\n",
       "      <th></th>\n",
       "      <th></th>\n",
       "      <th></th>\n",
       "      <th></th>\n",
       "      <th></th>\n",
       "      <th></th>\n",
       "    </tr>\n",
       "  </thead>\n",
       "  <tbody>\n",
       "    <tr>\n",
       "      <th>C</th>\n",
       "      <td>112978</td>\n",
       "      <td>112978</td>\n",
       "      <td>112978</td>\n",
       "      <td>112978</td>\n",
       "      <td>112978</td>\n",
       "      <td>112978</td>\n",
       "      <td>100658</td>\n",
       "      <td>112978</td>\n",
       "    </tr>\n",
       "    <tr>\n",
       "      <th>T1</th>\n",
       "      <td>110073</td>\n",
       "      <td>110073</td>\n",
       "      <td>110073</td>\n",
       "      <td>110073</td>\n",
       "      <td>110073</td>\n",
       "      <td>110073</td>\n",
       "      <td>98393</td>\n",
       "      <td>110073</td>\n",
       "    </tr>\n",
       "  </tbody>\n",
       "</table>\n",
       "</div>"
      ],
      "text/plain": [
       "           message  timestamp    user   track    time  latency  \\\n",
       "treatment                                                        \n",
       "C           112978     112978  112978  112978  112978   112978   \n",
       "T1          110073     110073  110073  110073  110073   110073   \n",
       "\n",
       "           recommendation  experiments  \n",
       "treatment                               \n",
       "C                  100658       112978  \n",
       "T1                  98393       110073  "
      ]
     },
     "execution_count": 5,
     "metadata": {},
     "output_type": "execute_result"
    }
   ],
   "source": [
    "data.groupby(\"treatment\").count()"
   ]
  },
  {
   "cell_type": "markdown",
   "metadata": {},
   "source": [
    "## Visualize sessions"
   ]
  },
  {
   "cell_type": "code",
   "execution_count": 6,
   "metadata": {
    "tags": []
   },
   "outputs": [],
   "source": [
    "Session = namedtuple(\"Session\", [\"timestamp\", \"tracks\", \"time\", \"latency\"])\n",
    "\n",
    "def sessionize(user_data):\n",
    "    sessions = []\n",
    "    session = None\n",
    "    for _, row in user_data.sort_values(\"timestamp\").iterrows():\n",
    "        if session is None:\n",
    "            session = Session(row[\"timestamp\"], 0, 0, 0)\n",
    "        \n",
    "        session = session._replace(\n",
    "            tracks = session.tracks + 1, \n",
    "            time = session.time + row[\"time\"],\n",
    "            latency = session.latency + row[\"latency\"] * 1000,\n",
    "        )\n",
    "        \n",
    "        if row[\"message\"] == \"last\":\n",
    "            sessions.append(session._asdict())\n",
    "            session = None\n",
    "    return sessions"
   ]
  },
  {
   "cell_type": "code",
   "execution_count": 7,
   "metadata": {
    "tags": []
   },
   "outputs": [],
   "source": [
    "sessions = (\n",
    "    data\n",
    "    .groupby([\"user\", \"treatment\"])\n",
    "    .apply(sessionize)\n",
    "    .explode()\n",
    "    .apply(pd.Series)\n",
    ")"
   ]
  },
  {
   "cell_type": "code",
   "execution_count": 8,
   "metadata": {
    "tags": []
   },
   "outputs": [
    {
     "data": {
      "image/png": "[encoded data removed]",
      "text/plain": [
       "<Figure size 1080x360 with 1 Axes>"
      ]
     },
     "metadata": {
      "needs_background": "light"
     },
     "output_type": "display_data"
    }
   ],
   "source": [
    "figure, ax = plt.subplots(figsize=(15, 5))\n",
    "for treatment, treatment_sessions in sessions.groupby(\"treatment\"):\n",
    "    reindexed_treatment_sessions = treatment_sessions.sort_values(\"timestamp\").reset_index()\n",
    "    ax.plot(reindexed_treatment_sessions.index, reindexed_treatment_sessions[\"tracks\"], label=treatment)\n",
    "ax.legend()\n",
    "pass"
   ]
  },
  {
   "cell_type": "code",
   "execution_count": 9,
   "metadata": {
    "tags": []
   },
   "outputs": [
    {
     "data": {
      "image/png": "[encoded data removed]",
      "text/plain": [
       "<Figure size 1080x360 with 1 Axes>"
      ]
     },
     "metadata": {
      "needs_background": "light"
     },
     "output_type": "display_data"
    }
   ],
   "source": [
    "figure, ax = plt.subplots(figsize=(15, 5))\n",
    "for treatment, treatment_sessions in sessions.groupby(\"treatment\"):\n",
    "    reindexed_treatment_sessions = treatment_sessions.sort_values(\"timestamp\").reset_index()\n",
    "    ax.plot(reindexed_treatment_sessions.index, reindexed_treatment_sessions[\"time\"], label=treatment)\n",
    "ax.legend()\n",
    "pass"
   ]
  },
  {
   "cell_type": "markdown",
   "metadata": {},
   "source": [
    "## Analyze the experiment"
   ]
  },
  {
   "cell_type": "code",
   "execution_count": 10,
   "metadata": {
    "tags": []
   },
   "outputs": [],
   "source": [
    "user_level_data = (\n",
    "  sessions\n",
    "    .reset_index()\n",
    "    .groupby([\"user\", \"treatment\"])\n",
    "    .agg(\n",
    "        {\n",
    "            \"timestamp\": \"count\",\n",
    "            \"tracks\": \"sum\",\n",
    "            \"time\": \"sum\",\n",
    "            \"latency\": \"sum\"\n",
    "        }\n",
    "    )\n",
    ")\n",
    "\n",
    "user_level_data[\"sessions\"] = user_level_data[\"timestamp\"]\n",
    "user_level_data[\"mean_request_latency\"] = user_level_data[\"latency\"] / user_level_data[\"tracks\"]\n",
    "user_level_data[\"mean_tracks_per_session\"] = user_level_data[\"tracks\"] / user_level_data[\"sessions\"]\n",
    "user_level_data[\"mean_time_per_session\"] = user_level_data[\"time\"] / user_level_data[\"sessions\"]\n",
    "\n",
    "metrics = [\n",
    "    \"time\", \n",
    "    \"sessions\", \n",
    "    \"mean_request_latency\", \n",
    "    \"mean_tracks_per_session\", \n",
    "    \"mean_time_per_session\"\n",
    "]\n",
    "\n",
    "user_level_metrics = user_level_data[metrics].copy().reset_index()"
   ]
  },
  {
   "cell_type": "code",
   "execution_count": 11,
   "metadata": {
    "tags": []
   },
   "outputs": [],
   "source": [
    "treatment_level_metrics = (\n",
    "    user_level_metrics\n",
    "    .groupby(\"treatment\")[metrics]\n",
    "    .agg([\"count\", \"mean\", \"var\"])\n",
    ")"
   ]
  },
  {
   "cell_type": "code",
   "execution_count": 12,
   "metadata": {
    "tags": []
   },
   "outputs": [],
   "source": [
    "def dof(n_0, n_1, s2_0, s2_1):\n",
    "    numerator = (s2_0 / n_0 + s2_1 / n_1) * (s2_0 / n_0 + s2_1 / n_1)\n",
    "    denominator = s2_0 * s2_0 / n_0 / n_0 / (n_0 - 1) + s2_1 * s2_1 / n_1 / n_1 / (n_1 - 1)\n",
    "    return numerator / denominator\n",
    "\n",
    "\n",
    "def ci(n_0, n_1, s2_0, s2_1, alpha=0.05):\n",
    "    return ss.t.ppf(1 - alpha/2, dof(n_0, n_1, s2_0, s2_1)) * np.sqrt(s2_0 / n_0 + s2_1 / n_1)\n",
    "\n",
    "\n",
    "effects = []\n",
    "\n",
    "control = [data for treatment, data in treatment_level_metrics.iterrows() if treatment == \"C\"][0]\n",
    "\n",
    "for treatment, row in treatment_level_metrics.iterrows():\n",
    "    if treatment == \"C\":\n",
    "        continue\n",
    "    \n",
    "    for metric in metrics:\n",
    "        control_mean = control[metric][\"mean\"]\n",
    "        treatment_mean = row[metric][\"mean\"]\n",
    "        \n",
    "        effect = treatment_mean - control_mean\n",
    "        conf_int = ci(\n",
    "            control[metric][\"count\"],\n",
    "            row[metric][\"count\"],\n",
    "            control[metric][\"var\"],\n",
    "            row[metric][\"var\"],\n",
    "        )\n",
    "        effects.append({\n",
    "            \"treatment\": treatment,\n",
    "            \"metric\": metric,\n",
    "            \"control_mean\": control_mean,\n",
    "            \"treatment_mean\": treatment_mean,\n",
    "            \"effect\": effect / control_mean * 100,\n",
    "            \"lower\": (effect - conf_int) / control_mean * 100,\n",
    "            \"upper\": (effect + conf_int) / control_mean * 100,\n",
    "            \"significant\": (effect + conf_int) * (effect - conf_int) > 0\n",
    "        })"
   ]
  },
  {
   "cell_type": "code",
   "execution_count": 13,
   "metadata": {},
   "outputs": [
    {
     "data": {
      "text/html": [
       "<style type=\"text/css\">\n",
       "#T_b52e1_row0_col2, #T_b52e1_row0_col3, #T_b52e1_row1_col3, #T_b52e1_row2_col2, #T_b52e1_row2_col3, #T_b52e1_row2_col4, #T_b52e1_row3_col2, #T_b52e1_row3_col3, #T_b52e1_row3_col4, #T_b52e1_row4_col2, #T_b52e1_row4_col3, #T_b52e1_row4_col4 {\n",
       "  color: green;\n",
       "}\n",
       "#T_b52e1_row0_col4, #T_b52e1_row1_col2, #T_b52e1_row1_col4 {\n",
       "  color: red;\n",
       "}\n",
       "#T_b52e1_row0_col7, #T_b52e1_row1_col7 {\n",
       "  color: white;\n",
       "  background-color: red;\n",
       "}\n",
       "#T_b52e1_row2_col7, #T_b52e1_row3_col7, #T_b52e1_row4_col7 {\n",
       "  color: white;\n",
       "  background-color: green;\n",
       "}\n",
       "</style>\n",
       "<table id=\"T_b52e1\">\n",
       "  <thead>\n",
       "    <tr>\n",
       "      <th class=\"blank level0\" >&nbsp;</th>\n",
       "      <th id=\"T_b52e1_level0_col0\" class=\"col_heading level0 col0\" >treatment</th>\n",
       "      <th id=\"T_b52e1_level0_col1\" class=\"col_heading level0 col1\" >metric</th>\n",
       "      <th id=\"T_b52e1_level0_col2\" class=\"col_heading level0 col2\" >effect</th>\n",
       "      <th id=\"T_b52e1_level0_col3\" class=\"col_heading level0 col3\" >upper</th>\n",
       "      <th id=\"T_b52e1_level0_col4\" class=\"col_heading level0 col4\" >lower</th>\n",
       "      <th id=\"T_b52e1_level0_col5\" class=\"col_heading level0 col5\" >control_mean</th>\n",
       "      <th id=\"T_b52e1_level0_col6\" class=\"col_heading level0 col6\" >treatment_mean</th>\n",
       "      <th id=\"T_b52e1_level0_col7\" class=\"col_heading level0 col7\" >significant</th>\n",
       "    </tr>\n",
       "  </thead>\n",
       "  <tbody>\n",
       "    <tr>\n",
       "      <th id=\"T_b52e1_level0_row0\" class=\"row_heading level0 row0\" >0</th>\n",
       "      <td id=\"T_b52e1_row0_col0\" class=\"data row0 col0\" >T1</td>\n",
       "      <td id=\"T_b52e1_row0_col1\" class=\"data row0 col1\" >time</td>\n",
       "      <td id=\"T_b52e1_row0_col2\" class=\"data row0 col2\" >4.461832</td>\n",
       "      <td id=\"T_b52e1_row0_col3\" class=\"data row0 col3\" >9.827423</td>\n",
       "      <td id=\"T_b52e1_row0_col4\" class=\"data row0 col4\" >-0.903758</td>\n",
       "      <td id=\"T_b52e1_row0_col5\" class=\"data row0 col5\" >11.059845</td>\n",
       "      <td id=\"T_b52e1_row0_col6\" class=\"data row0 col6\" >11.553317</td>\n",
       "      <td id=\"T_b52e1_row0_col7\" class=\"data row0 col7\" >False</td>\n",
       "    </tr>\n",
       "    <tr>\n",
       "      <th id=\"T_b52e1_level0_row1\" class=\"row_heading level0 row1\" >1</th>\n",
       "      <td id=\"T_b52e1_row1_col0\" class=\"data row1 col0\" >T1</td>\n",
       "      <td id=\"T_b52e1_row1_col1\" class=\"data row1 col1\" >sessions</td>\n",
       "      <td id=\"T_b52e1_row1_col2\" class=\"data row1 col2\" >-1.200324</td>\n",
       "      <td id=\"T_b52e1_row1_col3\" class=\"data row1 col3\" >1.011688</td>\n",
       "      <td id=\"T_b52e1_row1_col4\" class=\"data row1 col4\" >-3.412335</td>\n",
       "      <td id=\"T_b52e1_row1_col5\" class=\"data row1 col5\" >2.649462</td>\n",
       "      <td id=\"T_b52e1_row1_col6\" class=\"data row1 col6\" >2.617660</td>\n",
       "      <td id=\"T_b52e1_row1_col7\" class=\"data row1 col7\" >False</td>\n",
       "    </tr>\n",
       "    <tr>\n",
       "      <th id=\"T_b52e1_level0_row2\" class=\"row_heading level0 row2\" >3</th>\n",
       "      <td id=\"T_b52e1_row2_col0\" class=\"data row2 col0\" >T1</td>\n",
       "      <td id=\"T_b52e1_row2_col1\" class=\"data row2 col1\" >mean_tracks_per_session</td>\n",
       "      <td id=\"T_b52e1_row2_col2\" class=\"data row2 col2\" >3.029130</td>\n",
       "      <td id=\"T_b52e1_row2_col3\" class=\"data row2 col3\" >5.210447</td>\n",
       "      <td id=\"T_b52e1_row2_col4\" class=\"data row2 col4\" >0.847813</td>\n",
       "      <td id=\"T_b52e1_row2_col5\" class=\"data row2 col5\" >9.165148</td>\n",
       "      <td id=\"T_b52e1_row2_col6\" class=\"data row2 col6\" >9.442772</td>\n",
       "      <td id=\"T_b52e1_row2_col7\" class=\"data row2 col7\" >True</td>\n",
       "    </tr>\n",
       "    <tr>\n",
       "      <th id=\"T_b52e1_level0_row3\" class=\"row_heading level0 row3\" >4</th>\n",
       "      <td id=\"T_b52e1_row3_col0\" class=\"data row3 col0\" >T1</td>\n",
       "      <td id=\"T_b52e1_row3_col1\" class=\"data row3 col1\" >mean_time_per_session</td>\n",
       "      <td id=\"T_b52e1_row3_col2\" class=\"data row3 col2\" >6.279066</td>\n",
       "      <td id=\"T_b52e1_row3_col3\" class=\"data row3 col3\" >11.002083</td>\n",
       "      <td id=\"T_b52e1_row3_col4\" class=\"data row3 col4\" >1.556049</td>\n",
       "      <td id=\"T_b52e1_row3_col5\" class=\"data row3 col5\" >4.171065</td>\n",
       "      <td id=\"T_b52e1_row3_col6\" class=\"data row3 col6\" >4.432969</td>\n",
       "      <td id=\"T_b52e1_row3_col7\" class=\"data row3 col7\" >True</td>\n",
       "    </tr>\n",
       "    <tr>\n",
       "      <th id=\"T_b52e1_level0_row4\" class=\"row_heading level0 row4\" >2</th>\n",
       "      <td id=\"T_b52e1_row4_col0\" class=\"data row4 col0\" >T1</td>\n",
       "      <td id=\"T_b52e1_row4_col1\" class=\"data row4 col1\" >mean_request_latency</td>\n",
       "      <td id=\"T_b52e1_row4_col2\" class=\"data row4 col2\" >6.917418</td>\n",
       "      <td id=\"T_b52e1_row4_col3\" class=\"data row4 col3\" >7.846993</td>\n",
       "      <td id=\"T_b52e1_row4_col4\" class=\"data row4 col4\" >5.987843</td>\n",
       "      <td id=\"T_b52e1_row4_col5\" class=\"data row4 col5\" >0.743103</td>\n",
       "      <td id=\"T_b52e1_row4_col6\" class=\"data row4 col6\" >0.794507</td>\n",
       "      <td id=\"T_b52e1_row4_col7\" class=\"data row4 col7\" >True</td>\n",
       "    </tr>\n",
       "  </tbody>\n",
       "</table>\n"
      ],
      "text/plain": [
       "<pandas.io.formats.style.Styler at 0x7f0d4eea4640>"
      ]
     },
     "execution_count": 13,
     "metadata": {},
     "output_type": "execute_result"
    }
   ],
   "source": [
    "def color(value):\n",
    "    return 'color:red;' if value < 0 else 'color:green;'\n",
    "\n",
    "def background(value):\n",
    "    return 'color:white;background-color:green' if value else 'color:white;background-color:red'\n",
    "        \n",
    "\n",
    "(\n",
    "    pd.DataFrame(effects)[[\n",
    "        \"treatment\", \n",
    "        \"metric\",\n",
    "        \"effect\", \n",
    "        \"upper\", \n",
    "        \"lower\", \n",
    "        \"control_mean\", \n",
    "        \"treatment_mean\",\n",
    "        \"significant\"\n",
    "    ]]\n",
    "    .sort_values([\"metric\", \"treatment\"], ascending=False)\n",
    "    .style\n",
    "    .applymap(color, subset=[\"effect\", \"upper\", \"lower\"])\n",
    "    .applymap(background, subset=[\"significant\"])\n",
    ")"
   ]
  },
  {
   "cell_type": "code",
   "execution_count": null,
   "metadata": {},
   "outputs": [],
   "source": []
  }
 ],
 "metadata": {
  "kernelspec": {
   "display_name": "Python 3 (ipykernel)",
   "language": "python",
   "name": "python3"
  },
  "language_info": {
   "codemirror_mode": {
    "name": "ipython",
    "version": 3
   },
   "file_extension": ".py",
   "mimetype": "text/x-python",
   "name": "python",
   "nbconvert_exporter": "python",
   "pygments_lexer": "ipython3",
   "version": "3.9.12"
  }
 },
 "nbformat": 4,
 "nbformat_minor": 4
}
