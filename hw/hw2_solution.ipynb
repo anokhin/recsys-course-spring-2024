{
 "cells": [
  {
   "cell_type": "code",
   "execution_count": 1,
   "id": "7cb9fbf2aaf10658",
   "metadata": {
    "ExecuteTime": {
     "end_time": "2024-05-02T18:22:08.916794Z",
     "start_time": "2024-05-02T18:22:03.878800Z"
    },
    "collapsed": false,
    "jupyter": {
     "outputs_hidden": false
    }
   },
   "outputs": [],
   "source": [
    "import json\n",
    "import os\n",
    "from glob import glob\n",
    "\n",
    "import faiss\n",
    "import numpy as np\n",
    "import pandas as pd\n",
    "import simplejson\n",
    "import torch\n",
    "from sklearn.model_selection import train_test_split\n",
    "from sklearn.preprocessing import LabelEncoder\n",
    "from torch import nn\n",
    "from torch.utils.data import DataLoader, Dataset\n",
    "from tqdm.std import tqdm"
   ]
  },
  {
   "cell_type": "code",
   "execution_count": 2,
   "id": "ef31e78477f33367",
   "metadata": {
    "ExecuteTime": {
     "end_time": "2024-05-02T18:22:08.931109Z",
     "start_time": "2024-05-02T18:22:08.921592Z"
    },
    "collapsed": false,
    "jupyter": {
     "outputs_hidden": false
    }
   },
   "outputs": [],
   "source": [
    "class Interactions(Dataset):\n",
    "    def __init__(self, data: pd.DataFrame, track_features: pd.DataFrame):\n",
    "        self.user = torch.as_tensor(data.user.values, dtype=torch.long)\n",
    "        self.track_pos = torch.as_tensor(track_features.iloc[data.track_pos.values.squeeze()].values, dtype=torch.float32)\n",
    "        self.track_neg = torch.as_tensor(track_features.iloc[data.track_neg.values.squeeze()].values, dtype=torch.float32)\n",
    "\n",
    "    def __len__(self):\n",
    "        return len(self.user)\n",
    "\n",
    "    def __getitem__(self, idx):\n",
    "        return self.user[idx], self.track_pos[idx], self.track_neg[idx]"
   ]
  },
  {
   "cell_type": "code",
   "execution_count": 3,
   "id": "1a23d4fd5bb77484",
   "metadata": {
    "ExecuteTime": {
     "end_time": "2024-05-02T18:22:08.957939Z",
     "start_time": "2024-05-02T18:22:08.934198Z"
    },
    "collapsed": false,
    "jupyter": {
     "outputs_hidden": false
    }
   },
   "outputs": [],
   "source": [
    "class UserEncoder(nn.Module):\n",
    "    def __init__(self, n_users: int, n_factors: int = 128, out_dim: int = 128):\n",
    "        super().__init__()\n",
    "        self.n_factors = n_factors\n",
    "        self.user_embedding = nn.Embedding(n_users, n_factors)\n",
    "        self.hidden = nn.Sequential(\n",
    "            nn.ReLU(inplace=True),\n",
    "            nn.Linear(n_factors, out_dim),\n",
    "            nn.ReLU(inplace=True),\n",
    "            nn.Linear(out_dim, out_dim),\n",
    "        )\n",
    "\n",
    "    def forward(self, user: torch.Tensor):\n",
    "        user = user.reshape(-1)  # shape (batch_size,)\n",
    "        user_emb = self.user_embedding(user)  # shape (batch_size, n_factors)\n",
    "        hidden = self.hidden(user_emb)  # shape (batch_size, out_dim)\n",
    "        return hidden\n",
    "\n",
    "\n",
    "class ItemEncoder(nn.Module):\n",
    "    def __init__(self, n_artists: int, n_genres: int, n_factors: int = 64, out_dim: int = 128):\n",
    "        super().__init__()\n",
    "        self.n_factors = n_factors\n",
    "        self.artist_embedding = nn.Embedding(n_artists, n_factors)\n",
    "        self.genre_embedding = nn.Embedding(n_genres, n_factors)\n",
    "        self.pop_embedding = nn.Linear(1, n_factors)\n",
    "        self.hidden = nn.Sequential(\n",
    "            nn.ReLU(inplace=True),\n",
    "            nn.Linear(n_factors * 3, out_dim),\n",
    "            nn.ReLU(inplace=True),\n",
    "            nn.Linear(out_dim, out_dim),\n",
    "        )\n",
    "\n",
    "    def forward(self, item: torch.Tensor):\n",
    "        artist = item[:, 0].long().reshape(-1)  # shape (batch_size,)\n",
    "        genre = item[:, 1].long().reshape(-1)  # shape (batch_size,)\n",
    "        pop = item[:, 2].reshape(-1, 1)  # shape (batch_size, 1)\n",
    "        artist_emb = self.artist_embedding(artist)  # shape (batch_size, n_factors)\n",
    "        genre_emb = self.genre_embedding(genre)  # shape (batch_size, n_factors)\n",
    "        pop_emb = self.pop_embedding(pop)  # shape (batch_size, n_factors)\n",
    "        full_emb = torch.concat([artist_emb, genre_emb, pop_emb], dim=1)  # shape (batch_size, n_factors * 3)\n",
    "        hidden = self.hidden(full_emb)  # shape (batch_size, out_dim)\n",
    "        return hidden\n",
    "\n",
    "\n",
    "class RecommenderModel(nn.Module):\n",
    "    def __init__(self, n_users: int, n_artists: int, n_genres: int, encoder_out_dim: int = 100):\n",
    "        super().__init__()\n",
    "        self.user_encoder = UserEncoder(n_users, out_dim=encoder_out_dim)\n",
    "        self.item_encoder = ItemEncoder(n_artists, n_genres, out_dim=encoder_out_dim)\n",
    "\n",
    "    def forward(self, user: torch.Tensor, track_pos: torch.Tensor, track_neg: torch.Tensor):\n",
    "        encoded_user = self.user_encoder(user)\n",
    "        encoded_track_pos = self.item_encoder(track_pos)\n",
    "        encoded_track_neg = self.item_encoder(track_neg)\n",
    "        return encoded_user, encoded_track_pos, encoded_track_neg"
   ]
  },
  {
   "cell_type": "code",
   "execution_count": 4,
   "id": "cde5e833df85c4dc",
   "metadata": {
    "ExecuteTime": {
     "end_time": "2024-05-02T18:22:09.952707Z",
     "start_time": "2024-05-02T18:22:08.961520Z"
    }
   },
   "outputs": [
    {
     "data": {
      "text/html": [
       "<div>\n",
       "<style scoped>\n",
       "    .dataframe tbody tr th:only-of-type {\n",
       "        vertical-align: middle;\n",
       "    }\n",
       "\n",
       "    .dataframe tbody tr th {\n",
       "        vertical-align: top;\n",
       "    }\n",
       "\n",
       "    .dataframe thead th {\n",
       "        text-align: right;\n",
       "    }\n",
       "</style>\n",
       "<table border=\"1\" class=\"dataframe\">\n",
       "  <thead>\n",
       "    <tr style=\"text-align: right;\">\n",
       "      <th></th>\n",
       "      <th>artist</th>\n",
       "      <th>genre</th>\n",
       "      <th>pop</th>\n",
       "    </tr>\n",
       "  </thead>\n",
       "  <tbody>\n",
       "    <tr>\n",
       "      <th>0</th>\n",
       "      <td>1266</td>\n",
       "      <td>14</td>\n",
       "      <td>1.096232</td>\n",
       "    </tr>\n",
       "    <tr>\n",
       "      <th>1</th>\n",
       "      <td>3881</td>\n",
       "      <td>14</td>\n",
       "      <td>1.087375</td>\n",
       "    </tr>\n",
       "    <tr>\n",
       "      <th>2</th>\n",
       "      <td>3262</td>\n",
       "      <td>5</td>\n",
       "      <td>1.091572</td>\n",
       "    </tr>\n",
       "    <tr>\n",
       "      <th>3</th>\n",
       "      <td>7838</td>\n",
       "      <td>15</td>\n",
       "      <td>0.748773</td>\n",
       "    </tr>\n",
       "    <tr>\n",
       "      <th>4</th>\n",
       "      <td>7838</td>\n",
       "      <td>15</td>\n",
       "      <td>0.880102</td>\n",
       "    </tr>\n",
       "    <tr>\n",
       "      <th>...</th>\n",
       "      <td>...</td>\n",
       "      <td>...</td>\n",
       "      <td>...</td>\n",
       "    </tr>\n",
       "    <tr>\n",
       "      <th>49995</th>\n",
       "      <td>10871</td>\n",
       "      <td>14</td>\n",
       "      <td>0.430407</td>\n",
       "    </tr>\n",
       "    <tr>\n",
       "      <th>49996</th>\n",
       "      <td>7734</td>\n",
       "      <td>16</td>\n",
       "      <td>0.400733</td>\n",
       "    </tr>\n",
       "    <tr>\n",
       "      <th>49997</th>\n",
       "      <td>370</td>\n",
       "      <td>14</td>\n",
       "      <td>0.412713</td>\n",
       "    </tr>\n",
       "    <tr>\n",
       "      <th>49998</th>\n",
       "      <td>3953</td>\n",
       "      <td>12</td>\n",
       "      <td>0.402535</td>\n",
       "    </tr>\n",
       "    <tr>\n",
       "      <th>49999</th>\n",
       "      <td>11280</td>\n",
       "      <td>14</td>\n",
       "      <td>0.414313</td>\n",
       "    </tr>\n",
       "  </tbody>\n",
       "</table>\n",
       "<p>50000 rows × 3 columns</p>\n",
       "</div>"
      ],
      "text/plain": [
       "       artist  genre       pop\n",
       "0        1266     14  1.096232\n",
       "1        3881     14  1.087375\n",
       "2        3262      5  1.091572\n",
       "3        7838     15  0.748773\n",
       "4        7838     15  0.880102\n",
       "...       ...    ...       ...\n",
       "49995   10871     14  0.430407\n",
       "49996    7734     16  0.400733\n",
       "49997     370     14  0.412713\n",
       "49998    3953     12  0.402535\n",
       "49999   11280     14  0.414313\n",
       "\n",
       "[50000 rows x 3 columns]"
      ]
     },
     "execution_count": 4,
     "metadata": {},
     "output_type": "execute_result"
    }
   ],
   "source": [
    "track_features = (\n",
    "    pd.read_json(os.path.join('..', 'sim', 'data', 'tracks.json'), lines=True)\n",
    "    .drop(columns=['title'])\n",
    "    .fillna('None')\n",
    "    .sort_values('track')\n",
    "    .drop(columns='track')\n",
    "    .reset_index(drop=True)\n",
    ")\n",
    "\n",
    "artist_encoder = LabelEncoder().fit(track_features.artist)\n",
    "track_features['artist'] = artist_encoder.transform(track_features.artist)\n",
    "genre_encoder = LabelEncoder().fit(track_features.genre)\n",
    "track_features['genre'] = genre_encoder.transform(track_features.genre)\n",
    "track_features['pop'] = np.log(track_features['pop'].values) / 10\n",
    "\n",
    "track_features"
   ]
  },
  {
   "cell_type": "code",
   "execution_count": 5,
   "id": "7da86b21f3fc958",
   "metadata": {
    "ExecuteTime": {
     "end_time": "2024-05-02T18:27:55.323559Z",
     "start_time": "2024-05-02T18:22:09.955260Z"
    },
    "collapsed": false,
    "jupyter": {
     "outputs_hidden": false
    }
   },
   "outputs": [
    {
     "name": "stderr",
     "output_type": "stream",
     "text": [
      "100%|█████████████████████████████████████████████████████████████████████████████████████████████████████████████████████████████████████████████████████████████████████████████████████████████████| 42/42 [05:05<00:00,  7.27s/it]\n"
     ]
    },
    {
     "name": "stdout",
     "output_type": "stream",
     "text": [
      "Read all data!\n"
     ]
    },
    {
     "name": "stderr",
     "output_type": "stream",
     "text": [
      "100%|██████████████████████████████████████████████████████████████████████████████████████████████████████████████████████████████████████████████████████████████████████████████████████████| 10000/10000 [00:17<00:00, 575.23it/s]\n"
     ]
    },
    {
     "name": "stdout",
     "output_type": "stream",
     "text": [
      "Train size: 13270959, val size: 1474551\n"
     ]
    },
    {
     "data": {
      "text/html": [
       "<div>\n",
       "<style scoped>\n",
       "    .dataframe tbody tr th:only-of-type {\n",
       "        vertical-align: middle;\n",
       "    }\n",
       "\n",
       "    .dataframe tbody tr th {\n",
       "        vertical-align: top;\n",
       "    }\n",
       "\n",
       "    .dataframe thead th {\n",
       "        text-align: right;\n",
       "    }\n",
       "</style>\n",
       "<table border=\"1\" class=\"dataframe\">\n",
       "  <thead>\n",
       "    <tr style=\"text-align: right;\">\n",
       "      <th></th>\n",
       "      <th>user</th>\n",
       "      <th>track_pos</th>\n",
       "      <th>track_neg</th>\n",
       "    </tr>\n",
       "  </thead>\n",
       "  <tbody>\n",
       "    <tr>\n",
       "      <th>95798</th>\n",
       "      <td>68</td>\n",
       "      <td>4450</td>\n",
       "      <td>49594</td>\n",
       "    </tr>\n",
       "    <tr>\n",
       "      <th>11429963</th>\n",
       "      <td>7751</td>\n",
       "      <td>4529</td>\n",
       "      <td>36678</td>\n",
       "    </tr>\n",
       "    <tr>\n",
       "      <th>10476686</th>\n",
       "      <td>7117</td>\n",
       "      <td>45241</td>\n",
       "      <td>20646</td>\n",
       "    </tr>\n",
       "    <tr>\n",
       "      <th>10548174</th>\n",
       "      <td>7170</td>\n",
       "      <td>528</td>\n",
       "      <td>2332</td>\n",
       "    </tr>\n",
       "    <tr>\n",
       "      <th>14391083</th>\n",
       "      <td>9754</td>\n",
       "      <td>33871</td>\n",
       "      <td>18329</td>\n",
       "    </tr>\n",
       "    <tr>\n",
       "      <th>...</th>\n",
       "      <td>...</td>\n",
       "      <td>...</td>\n",
       "      <td>...</td>\n",
       "    </tr>\n",
       "    <tr>\n",
       "      <th>6900715</th>\n",
       "      <td>4710</td>\n",
       "      <td>41950</td>\n",
       "      <td>37152</td>\n",
       "    </tr>\n",
       "    <tr>\n",
       "      <th>10502264</th>\n",
       "      <td>7132</td>\n",
       "      <td>11744</td>\n",
       "      <td>32181</td>\n",
       "    </tr>\n",
       "    <tr>\n",
       "      <th>8862241</th>\n",
       "      <td>6032</td>\n",
       "      <td>41655</td>\n",
       "      <td>39651</td>\n",
       "    </tr>\n",
       "    <tr>\n",
       "      <th>1681636</th>\n",
       "      <td>1143</td>\n",
       "      <td>3283</td>\n",
       "      <td>41013</td>\n",
       "    </tr>\n",
       "    <tr>\n",
       "      <th>9317447</th>\n",
       "      <td>6341</td>\n",
       "      <td>11215</td>\n",
       "      <td>26221</td>\n",
       "    </tr>\n",
       "  </tbody>\n",
       "</table>\n",
       "<p>13270959 rows × 3 columns</p>\n",
       "</div>"
      ],
      "text/plain": [
       "          user  track_pos  track_neg\n",
       "95798       68       4450      49594\n",
       "11429963  7751       4529      36678\n",
       "10476686  7117      45241      20646\n",
       "10548174  7170        528       2332\n",
       "14391083  9754      33871      18329\n",
       "...        ...        ...        ...\n",
       "6900715   4710      41950      37152\n",
       "10502264  7132      11744      32181\n",
       "8862241   6032      41655      39651\n",
       "1681636   1143       3283      41013\n",
       "9317447   6341      11215      26221\n",
       "\n",
       "[13270959 rows x 3 columns]"
      ]
     },
     "execution_count": 5,
     "metadata": {},
     "output_type": "execute_result"
    }
   ],
   "source": [
    "train_dfs = []\n",
    "for path in tqdm(\n",
    "        glob(os.path.join('..', 'logs', 'log-*', 'data.json')),\n",
    "        total=len(os.listdir(os.path.join('..', 'logs'))),\n",
    "):\n",
    "    with open(path, 'rt') as json_file:\n",
    "        train_df = pd.DataFrame([simplejson.loads(line) for line in json_file])[\n",
    "            ['user', 'track', 'time']\n",
    "        ]\n",
    "    train_dfs.append(train_df)\n",
    "data = pd.concat(train_dfs).reset_index(drop=True)\n",
    "print('Read all data!')\n",
    "\n",
    "NUM_NEGATIVE_SAMPLES = 10\n",
    "triplets = []\n",
    "grouper = data.groupby('user')\n",
    "for user, group in tqdm(grouper, total=len(grouper)):\n",
    "    positives = group[group.time > 0.8].track.values\n",
    "    negatives = group[group.time < 0.2].track.values\n",
    "\n",
    "    expanded_positives = np.tile(positives, NUM_NEGATIVE_SAMPLES)\n",
    "    sampled_negatives = np.random.choice(negatives, len(expanded_positives))\n",
    "    user_expanded = np.full_like(sampled_negatives, user, dtype=int)\n",
    "\n",
    "    user_triplets = pd.DataFrame(\n",
    "        {\n",
    "            'user': user_expanded,\n",
    "            'track_pos': expanded_positives,\n",
    "            'track_neg': sampled_negatives,\n",
    "        }\n",
    "    )\n",
    "    triplets.append(user_triplets)\n",
    "triplets = pd.concat(triplets).reset_index(drop=True)\n",
    "\n",
    "train, val = train_test_split(triplets, stratify=triplets.user, test_size=0.1)\n",
    "print(f'Train size: {len(train)}, val size: {len(val)}')\n",
    "train"
   ]
  },
  {
   "cell_type": "code",
   "execution_count": 6,
   "id": "80bbe54e151b86be",
   "metadata": {
    "ExecuteTime": {
     "end_time": "2024-05-02T18:28:04.548903Z",
     "start_time": "2024-05-02T18:27:55.327096Z"
    }
   },
   "outputs": [],
   "source": [
    "train_interactions = Interactions(train, track_features)\n",
    "val_interactions = Interactions(val, track_features)\n",
    "\n",
    "train_dataloader = DataLoader(\n",
    "    train_interactions, batch_size=8192, shuffle=True, drop_last=True,\n",
    "    num_workers=30, persistent_workers=True,\n",
    ")\n",
    "val_dataloader = DataLoader(\n",
    "    val_interactions, batch_size=8192 * 16, shuffle=False, drop_last=False,\n",
    "    num_workers=30, persistent_workers=True,\n",
    ")\n",
    "\n",
    "epochs = 40\n",
    "# Initialize the model\n",
    "device = torch.device('cuda:3' if torch.cuda.is_available() else 'cpu')\n",
    "model = RecommenderModel(\n",
    "    n_users=10000,\n",
    "    n_artists=len(artist_encoder.classes_),\n",
    "    n_genres=len(genre_encoder.classes_),\n",
    ").to(device)\n",
    "optimizer = torch.optim.AdamW(model.parameters(), lr=1e-3, weight_decay=1e-6)\n",
    "criterion = nn.TripletMarginLoss(margin=0.4)"
   ]
  },
  {
   "cell_type": "code",
   "execution_count": 7,
   "id": "6b42077b4eaab889",
   "metadata": {
    "ExecuteTime": {
     "end_time": "2024-05-02T19:39:14.862801Z",
     "start_time": "2024-05-02T18:28:04.552002Z"
    },
    "collapsed": false,
    "jupyter": {
     "outputs_hidden": false
    }
   },
   "outputs": [
    {
     "name": "stderr",
     "output_type": "stream",
     "text": [
      "100%|█████████████████████████████████████████████████████████████████████████████████████████████████████████████████████████████████████████████████████████████████████████████████████████████| 1619/1619 [01:46<00:00, 15.20it/s]\n"
     ]
    },
    {
     "name": "stdout",
     "output_type": "stream",
     "text": [
      "Epoch 0, train loss 0.1511840522289276, val loss 0.1179153248667717\n"
     ]
    },
    {
     "name": "stderr",
     "output_type": "stream",
     "text": [
      "100%|█████████████████████████████████████████████████████████████████████████████████████████████████████████████████████████████████████████████████████████████████████████████████████████████| 1619/1619 [01:34<00:00, 17.18it/s]\n"
     ]
    },
    {
     "name": "stdout",
     "output_type": "stream",
     "text": [
      "Epoch 1, train loss 0.1035318374633789, val loss 0.09527994692325592\n"
     ]
    },
    {
     "name": "stderr",
     "output_type": "stream",
     "text": [
      "100%|█████████████████████████████████████████████████████████████████████████████████████████████████████████████████████████████████████████████████████████████████████████████████████████████| 1619/1619 [01:32<00:00, 17.54it/s]\n"
     ]
    },
    {
     "name": "stdout",
     "output_type": "stream",
     "text": [
      "Epoch 2, train loss 0.08539750427007675, val loss 0.08259036391973495\n"
     ]
    },
    {
     "name": "stderr",
     "output_type": "stream",
     "text": [
      "100%|█████████████████████████████████████████████████████████████████████████████████████████████████████████████████████████████████████████████████████████████████████████████████████████████| 1619/1619 [01:30<00:00, 17.95it/s]\n"
     ]
    },
    {
     "name": "stdout",
     "output_type": "stream",
     "text": [
      "Epoch 3, train loss 0.07402154803276062, val loss 0.07372409850358963\n"
     ]
    },
    {
     "name": "stderr",
     "output_type": "stream",
     "text": [
      "100%|█████████████████████████████████████████████████████████████████████████████████████████████████████████████████████████████████████████████████████████████████████████████████████████████| 1619/1619 [01:30<00:00, 17.79it/s]\n"
     ]
    },
    {
     "name": "stdout",
     "output_type": "stream",
     "text": [
      "Epoch 4, train loss 0.06605679541826248, val loss 0.06745392829179764\n"
     ]
    },
    {
     "name": "stderr",
     "output_type": "stream",
     "text": [
      "100%|█████████████████████████████████████████████████████████████████████████████████████████████████████████████████████████████████████████████████████████████████████████████████████████████| 1619/1619 [01:31<00:00, 17.73it/s]\n"
     ]
    },
    {
     "name": "stdout",
     "output_type": "stream",
     "text": [
      "Epoch 5, train loss 0.06013789400458336, val loss 0.06298654526472092\n"
     ]
    },
    {
     "name": "stderr",
     "output_type": "stream",
     "text": [
      "100%|█████████████████████████████████████████████████████████████████████████████████████████████████████████████████████████████████████████████████████████████████████████████████████████████| 1619/1619 [01:29<00:00, 18.12it/s]\n"
     ]
    },
    {
     "name": "stdout",
     "output_type": "stream",
     "text": [
      "Epoch 6, train loss 0.05558126047253609, val loss 0.05895216017961502\n"
     ]
    },
    {
     "name": "stderr",
     "output_type": "stream",
     "text": [
      "100%|█████████████████████████████████████████████████████████████████████████████████████████████████████████████████████████████████████████████████████████████████████████████████████████████| 1619/1619 [01:29<00:00, 18.01it/s]\n"
     ]
    },
    {
     "name": "stdout",
     "output_type": "stream",
     "text": [
      "Epoch 7, train loss 0.05193035304546356, val loss 0.056184425950050354\n"
     ]
    },
    {
     "name": "stderr",
     "output_type": "stream",
     "text": [
      "100%|█████████████████████████████████████████████████████████████████████████████████████████████████████████████████████████████████████████████████████████████████████████████████████████████| 1619/1619 [01:29<00:00, 18.12it/s]\n"
     ]
    },
    {
     "name": "stdout",
     "output_type": "stream",
     "text": [
      "Epoch 8, train loss 0.048897188156843185, val loss 0.05363382771611214\n"
     ]
    },
    {
     "name": "stderr",
     "output_type": "stream",
     "text": [
      "100%|█████████████████████████████████████████████████████████████████████████████████████████████████████████████████████████████████████████████████████████████████████████████████████████████| 1619/1619 [01:28<00:00, 18.32it/s]\n"
     ]
    },
    {
     "name": "stdout",
     "output_type": "stream",
     "text": [
      "Epoch 9, train loss 0.046376824378967285, val loss 0.05157536268234253\n"
     ]
    },
    {
     "name": "stderr",
     "output_type": "stream",
     "text": [
      "100%|█████████████████████████████████████████████████████████████████████████████████████████████████████████████████████████████████████████████████████████████████████████████████████████████| 1619/1619 [01:30<00:00, 17.95it/s]\n"
     ]
    },
    {
     "name": "stdout",
     "output_type": "stream",
     "text": [
      "Epoch 10, train loss 0.044222913682460785, val loss 0.049862753599882126\n"
     ]
    },
    {
     "name": "stderr",
     "output_type": "stream",
     "text": [
      "100%|█████████████████████████████████████████████████████████████████████████████████████████████████████████████████████████████████████████████████████████████████████████████████████████████| 1619/1619 [01:28<00:00, 18.39it/s]\n"
     ]
    },
    {
     "name": "stdout",
     "output_type": "stream",
     "text": [
      "Epoch 11, train loss 0.042357128113508224, val loss 0.04840271174907684\n"
     ]
    },
    {
     "name": "stderr",
     "output_type": "stream",
     "text": [
      "100%|█████████████████████████████████████████████████████████████████████████████████████████████████████████████████████████████████████████████████████████████████████████████████████████████| 1619/1619 [01:34<00:00, 17.17it/s]\n"
     ]
    },
    {
     "name": "stdout",
     "output_type": "stream",
     "text": [
      "Epoch 12, train loss 0.04072294756770134, val loss 0.04707447439432144\n"
     ]
    },
    {
     "name": "stderr",
     "output_type": "stream",
     "text": [
      "100%|█████████████████████████████████████████████████████████████████████████████████████████████████████████████████████████████████████████████████████████████████████████████████████████████| 1619/1619 [01:34<00:00, 17.07it/s]\n"
     ]
    },
    {
     "name": "stdout",
     "output_type": "stream",
     "text": [
      "Epoch 13, train loss 0.039283838123083115, val loss 0.0460219606757164\n"
     ]
    },
    {
     "name": "stderr",
     "output_type": "stream",
     "text": [
      "100%|█████████████████████████████████████████████████████████████████████████████████████████████████████████████████████████████████████████████████████████████████████████████████████████████| 1619/1619 [01:35<00:00, 16.99it/s]\n"
     ]
    },
    {
     "name": "stdout",
     "output_type": "stream",
     "text": [
      "Epoch 14, train loss 0.03796510770916939, val loss 0.04495207592844963\n"
     ]
    },
    {
     "name": "stderr",
     "output_type": "stream",
     "text": [
      "100%|█████████████████████████████████████████████████████████████████████████████████████████████████████████████████████████████████████████████████████████████████████████████████████████████| 1619/1619 [01:39<00:00, 16.21it/s]\n"
     ]
    },
    {
     "name": "stdout",
     "output_type": "stream",
     "text": [
      "Epoch 15, train loss 0.03682146966457367, val loss 0.044091470539569855\n"
     ]
    },
    {
     "name": "stderr",
     "output_type": "stream",
     "text": [
      "100%|█████████████████████████████████████████████████████████████████████████████████████████████████████████████████████████████████████████████████████████████████████████████████████████████| 1619/1619 [01:41<00:00, 15.97it/s]\n"
     ]
    },
    {
     "name": "stdout",
     "output_type": "stream",
     "text": [
      "Epoch 16, train loss 0.03577138110995293, val loss 0.04341429844498634\n"
     ]
    },
    {
     "name": "stderr",
     "output_type": "stream",
     "text": [
      "100%|█████████████████████████████████████████████████████████████████████████████████████████████████████████████████████████████████████████████████████████████████████████████████████████████| 1619/1619 [01:33<00:00, 17.23it/s]\n"
     ]
    },
    {
     "name": "stdout",
     "output_type": "stream",
     "text": [
      "Epoch 17, train loss 0.03479588031768799, val loss 0.04238617420196533\n"
     ]
    },
    {
     "name": "stderr",
     "output_type": "stream",
     "text": [
      "100%|█████████████████████████████████████████████████████████████████████████████████████████████████████████████████████████████████████████████████████████████████████████████████████████████| 1619/1619 [01:33<00:00, 17.35it/s]\n"
     ]
    },
    {
     "name": "stdout",
     "output_type": "stream",
     "text": [
      "Epoch 18, train loss 0.03390629589557648, val loss 0.041740164160728455\n"
     ]
    },
    {
     "name": "stderr",
     "output_type": "stream",
     "text": [
      "100%|█████████████████████████████████████████████████████████████████████████████████████████████████████████████████████████████████████████████████████████████████████████████████████████████| 1619/1619 [01:33<00:00, 17.26it/s]\n"
     ]
    },
    {
     "name": "stdout",
     "output_type": "stream",
     "text": [
      "Epoch 19, train loss 0.033082015812397, val loss 0.04107066988945007\n"
     ]
    },
    {
     "name": "stderr",
     "output_type": "stream",
     "text": [
      "100%|█████████████████████████████████████████████████████████████████████████████████████████████████████████████████████████████████████████████████████████████████████████████████████████████| 1619/1619 [01:28<00:00, 18.21it/s]\n"
     ]
    },
    {
     "name": "stdout",
     "output_type": "stream",
     "text": [
      "Epoch 20, train loss 0.03232850506901741, val loss 0.04061966389417648\n"
     ]
    },
    {
     "name": "stderr",
     "output_type": "stream",
     "text": [
      "100%|█████████████████████████████████████████████████████████████████████████████████████████████████████████████████████████████████████████████████████████████████████████████████████████████| 1619/1619 [01:33<00:00, 17.27it/s]\n"
     ]
    },
    {
     "name": "stdout",
     "output_type": "stream",
     "text": [
      "Epoch 21, train loss 0.031633730977773666, val loss 0.04009092226624489\n"
     ]
    },
    {
     "name": "stderr",
     "output_type": "stream",
     "text": [
      "100%|█████████████████████████████████████████████████████████████████████████████████████████████████████████████████████████████████████████████████████████████████████████████████████████████| 1619/1619 [01:31<00:00, 17.67it/s]\n"
     ]
    },
    {
     "name": "stdout",
     "output_type": "stream",
     "text": [
      "Epoch 22, train loss 0.03097323141992092, val loss 0.03937201201915741\n"
     ]
    },
    {
     "name": "stderr",
     "output_type": "stream",
     "text": [
      "100%|█████████████████████████████████████████████████████████████████████████████████████████████████████████████████████████████████████████████████████████████████████████████████████████████| 1619/1619 [01:33<00:00, 17.25it/s]\n"
     ]
    },
    {
     "name": "stdout",
     "output_type": "stream",
     "text": [
      "Epoch 23, train loss 0.03036654368042946, val loss 0.039212945848703384\n"
     ]
    },
    {
     "name": "stderr",
     "output_type": "stream",
     "text": [
      "100%|█████████████████████████████████████████████████████████████████████████████████████████████████████████████████████████████████████████████████████████████████████████████████████████████| 1619/1619 [01:34<00:00, 17.16it/s]\n"
     ]
    },
    {
     "name": "stdout",
     "output_type": "stream",
     "text": [
      "Epoch 24, train loss 0.02980002388358116, val loss 0.03864368051290512\n"
     ]
    },
    {
     "name": "stderr",
     "output_type": "stream",
     "text": [
      "100%|█████████████████████████████████████████████████████████████████████████████████████████████████████████████████████████████████████████████████████████████████████████████████████████████| 1619/1619 [01:29<00:00, 18.11it/s]\n"
     ]
    },
    {
     "name": "stdout",
     "output_type": "stream",
     "text": [
      "Epoch 25, train loss 0.02926597371697426, val loss 0.03835261985659599\n"
     ]
    },
    {
     "name": "stderr",
     "output_type": "stream",
     "text": [
      "100%|█████████████████████████████████████████████████████████████████████████████████████████████████████████████████████████████████████████████████████████████████████████████████████████████| 1619/1619 [01:36<00:00, 16.84it/s]\n"
     ]
    },
    {
     "name": "stdout",
     "output_type": "stream",
     "text": [
      "Epoch 26, train loss 0.028751706704497337, val loss 0.037795811891555786\n"
     ]
    },
    {
     "name": "stderr",
     "output_type": "stream",
     "text": [
      "100%|█████████████████████████████████████████████████████████████████████████████████████████████████████████████████████████████████████████████████████████████████████████████████████████████| 1619/1619 [01:27<00:00, 18.44it/s]\n"
     ]
    },
    {
     "name": "stdout",
     "output_type": "stream",
     "text": [
      "Epoch 27, train loss 0.02826649323105812, val loss 0.037358660250902176\n"
     ]
    },
    {
     "name": "stderr",
     "output_type": "stream",
     "text": [
      "100%|█████████████████████████████████████████████████████████████████████████████████████████████████████████████████████████████████████████████████████████████████████████████████████████████| 1619/1619 [01:37<00:00, 16.57it/s]\n"
     ]
    },
    {
     "name": "stdout",
     "output_type": "stream",
     "text": [
      "Epoch 28, train loss 0.027823111042380333, val loss 0.03699706494808197\n"
     ]
    },
    {
     "name": "stderr",
     "output_type": "stream",
     "text": [
      "100%|█████████████████████████████████████████████████████████████████████████████████████████████████████████████████████████████████████████████████████████████████████████████████████████████| 1619/1619 [01:36<00:00, 16.83it/s]\n"
     ]
    },
    {
     "name": "stdout",
     "output_type": "stream",
     "text": [
      "Epoch 29, train loss 0.027410408481955528, val loss 0.03677535802125931\n"
     ]
    },
    {
     "name": "stderr",
     "output_type": "stream",
     "text": [
      "100%|█████████████████████████████████████████████████████████████████████████████████████████████████████████████████████████████████████████████████████████████████████████████████████████████| 1619/1619 [01:33<00:00, 17.39it/s]\n"
     ]
    },
    {
     "name": "stdout",
     "output_type": "stream",
     "text": [
      "Epoch 30, train loss 0.027004702016711235, val loss 0.0364978052675724\n"
     ]
    },
    {
     "name": "stderr",
     "output_type": "stream",
     "text": [
      "100%|█████████████████████████████████████████████████████████████████████████████████████████████████████████████████████████████████████████████████████████████████████████████████████████████| 1619/1619 [01:33<00:00, 17.30it/s]\n"
     ]
    },
    {
     "name": "stdout",
     "output_type": "stream",
     "text": [
      "Epoch 31, train loss 0.026618456467986107, val loss 0.036227744072675705\n"
     ]
    },
    {
     "name": "stderr",
     "output_type": "stream",
     "text": [
      "100%|█████████████████████████████████████████████████████████████████████████████████████████████████████████████████████████████████████████████████████████████████████████████████████████████| 1619/1619 [01:35<00:00, 16.93it/s]\n"
     ]
    },
    {
     "name": "stdout",
     "output_type": "stream",
     "text": [
      "Epoch 32, train loss 0.026275722309947014, val loss 0.036056116223335266\n"
     ]
    },
    {
     "name": "stderr",
     "output_type": "stream",
     "text": [
      "100%|█████████████████████████████████████████████████████████████████████████████████████████████████████████████████████████████████████████████████████████████████████████████████████████████| 1619/1619 [01:34<00:00, 17.06it/s]\n"
     ]
    },
    {
     "name": "stdout",
     "output_type": "stream",
     "text": [
      "Epoch 33, train loss 0.025902319699525833, val loss 0.03573070093989372\n"
     ]
    },
    {
     "name": "stderr",
     "output_type": "stream",
     "text": [
      "100%|█████████████████████████████████████████████████████████████████████████████████████████████████████████████████████████████████████████████████████████████████████████████████████████████| 1619/1619 [01:32<00:00, 17.42it/s]\n"
     ]
    },
    {
     "name": "stdout",
     "output_type": "stream",
     "text": [
      "Epoch 34, train loss 0.02556709572672844, val loss 0.03547443449497223\n"
     ]
    },
    {
     "name": "stderr",
     "output_type": "stream",
     "text": [
      "100%|█████████████████████████████████████████████████████████████████████████████████████████████████████████████████████████████████████████████████████████████████████████████████████████████| 1619/1619 [01:36<00:00, 16.70it/s]\n"
     ]
    },
    {
     "name": "stdout",
     "output_type": "stream",
     "text": [
      "Epoch 35, train loss 0.025268349796533585, val loss 0.03529655188322067\n"
     ]
    },
    {
     "name": "stderr",
     "output_type": "stream",
     "text": [
      "100%|█████████████████████████████████████████████████████████████████████████████████████████████████████████████████████████████████████████████████████████████████████████████████████████████| 1619/1619 [01:33<00:00, 17.26it/s]\n"
     ]
    },
    {
     "name": "stdout",
     "output_type": "stream",
     "text": [
      "Epoch 36, train loss 0.024975772947072983, val loss 0.03505455702543259\n"
     ]
    },
    {
     "name": "stderr",
     "output_type": "stream",
     "text": [
      "100%|█████████████████████████████████████████████████████████████████████████████████████████████████████████████████████████████████████████████████████████████████████████████████████████████| 1619/1619 [01:32<00:00, 17.50it/s]\n"
     ]
    },
    {
     "name": "stdout",
     "output_type": "stream",
     "text": [
      "Epoch 37, train loss 0.024676699191331863, val loss 0.03490293398499489\n"
     ]
    },
    {
     "name": "stderr",
     "output_type": "stream",
     "text": [
      "100%|█████████████████████████████████████████████████████████████████████████████████████████████████████████████████████████████████████████████████████████████████████████████████████████████| 1619/1619 [01:34<00:00, 17.05it/s]\n"
     ]
    },
    {
     "name": "stdout",
     "output_type": "stream",
     "text": [
      "Epoch 38, train loss 0.024388756603002548, val loss 0.034688930958509445\n"
     ]
    },
    {
     "name": "stderr",
     "output_type": "stream",
     "text": [
      "100%|█████████████████████████████████████████████████████████████████████████████████████████████████████████████████████████████████████████████████████████████████████████████████████████████| 1619/1619 [01:33<00:00, 17.28it/s]\n"
     ]
    },
    {
     "name": "stdout",
     "output_type": "stream",
     "text": [
      "Epoch 39, train loss 0.024111082777380943, val loss 0.034495025873184204\n"
     ]
    }
   ],
   "source": [
    "# Train the model\n",
    "for epoch in range(epochs):\n",
    "    model.train()\n",
    "    train_losses = []\n",
    "    for user, track_pos, track_neg in tqdm(train_dataloader):\n",
    "        user_, track_pos_, track_neg_ = map(\n",
    "            lambda x: x.to(device), (user, track_pos, track_neg)\n",
    "        )\n",
    "        user_emb, track_pos_emb, track_neg_emb = model(user_, track_pos_, track_neg_)\n",
    "        loss = criterion(user_emb, track_pos_emb, track_neg_emb)\n",
    "        train_losses.append(loss.detach())\n",
    "\n",
    "        optimizer.zero_grad()\n",
    "        loss.backward()\n",
    "        optimizer.step()\n",
    "\n",
    "    model.eval()\n",
    "    val_losses = []\n",
    "    for user, track_pos, track_neg in val_dataloader:\n",
    "        user_, track_pos_, track_neg_ = map(\n",
    "            lambda x: x.to(device), (user, track_pos, track_neg)\n",
    "        )\n",
    "        with torch.no_grad():\n",
    "            user_emb, track_pos_emb, track_neg_emb = model(user_, track_pos_, track_neg_)\n",
    "            loss = criterion(user_emb, track_pos_emb, track_neg_emb)\n",
    "            val_losses.append(loss * len(user_))\n",
    "\n",
    "    mean_train_loss = torch.stack(train_losses).mean().item()\n",
    "    mean_val_loss = torch.stack(val_losses).sum().div(len(val_interactions)).item()\n",
    "    print(f'Epoch {epoch}, train loss {mean_train_loss}, val loss {mean_val_loss}')"
   ]
  },
  {
   "cell_type": "code",
   "execution_count": 8,
   "id": "857160ab691c3177",
   "metadata": {
    "ExecuteTime": {
     "end_time": "2024-05-02T19:39:14.986559Z",
     "start_time": "2024-05-02T19:39:14.871004Z"
    }
   },
   "outputs": [],
   "source": [
    "torch.save(model.state_dict(), 'model.pt')"
   ]
  },
  {
   "cell_type": "code",
   "execution_count": 9,
   "id": "b5060025b93da035",
   "metadata": {
    "ExecuteTime": {
     "end_time": "2024-05-02T19:39:15.026564Z",
     "start_time": "2024-05-02T19:39:14.990731Z"
    }
   },
   "outputs": [],
   "source": [
    "model.eval()\n",
    "with torch.no_grad():\n",
    "    user_embeddings = model.user_encoder(torch.arange(0, 10000).to(device)).cpu().numpy()\n",
    "    track_embeddings = model.item_encoder(\n",
    "        torch.as_tensor(track_features.values, dtype=torch.float32).to(device)\n",
    "    ).cpu().numpy()"
   ]
  },
  {
   "cell_type": "code",
   "execution_count": 10,
   "id": "d7d7c7689bebc796",
   "metadata": {
    "ExecuteTime": {
     "end_time": "2024-05-02T19:39:15.048244Z",
     "start_time": "2024-05-02T19:39:15.035976Z"
    }
   },
   "outputs": [
    {
     "data": {
      "text/plain": [
       "((50000, 100), (10000, 100))"
      ]
     },
     "execution_count": 10,
     "metadata": {},
     "output_type": "execute_result"
    }
   ],
   "source": [
    "track_embeddings.shape, user_embeddings.shape"
   ]
  },
  {
   "cell_type": "code",
   "execution_count": 11,
   "id": "f2952b7802434574",
   "metadata": {
    "ExecuteTime": {
     "end_time": "2024-05-02T19:39:17.576626Z",
     "start_time": "2024-05-02T19:39:15.050569Z"
    }
   },
   "outputs": [],
   "source": [
    "gpu_res = faiss.StandardGpuResources()\n",
    "index_flat = faiss.index_factory(track_embeddings.shape[1], 'Flat', faiss.METRIC_L2)\n",
    "index = faiss.index_cpu_to_gpu(gpu_res, 3, index_flat)\n",
    "index.add(track_embeddings.astype('float32'))"
   ]
  },
  {
   "cell_type": "code",
   "execution_count": 12,
   "id": "37e6bf03cad3aab0",
   "metadata": {
    "ExecuteTime": {
     "end_time": "2024-05-02T19:39:20.696611Z",
     "start_time": "2024-05-02T19:39:17.584079Z"
    }
   },
   "outputs": [
    {
     "name": "stderr",
     "output_type": "stream",
     "text": [
      "100%|█████████████████████████████████████████████████████████████████████████████████████████████████████████████████████████████████████████████████████████████████████████████████████████| 10000/10000 [00:03<00:00, 3306.46it/s]\n"
     ]
    }
   ],
   "source": [
    "with open(os.path.join('..', 'botify', 'data', 'recommendations_final.json'), 'wt') as rec_file:\n",
    "    for user, user_emb in tqdm(enumerate(user_embeddings), total=len(user_embeddings)):\n",
    "        dists, neighbours = index.search(user_emb.astype('float32')[np.newaxis, :], 30)\n",
    "        recommendation = {\n",
    "            \"user\": int(user),\n",
    "            \"tracks\": neighbours.flatten().tolist()\n",
    "        }\n",
    "        rec_file.write(json.dumps(recommendation) + \"\\n\")"
   ]
  }
 ],
 "metadata": {
  "kernelspec": {
   "display_name": "Python 3 (ipykernel)",
   "language": "python",
   "name": "python3"
  },
  "language_info": {
   "codemirror_mode": {
    "name": "ipython",
    "version": 3
   },
   "file_extension": ".py",
   "mimetype": "text/x-python",
   "name": "python",
   "nbconvert_exporter": "python",
   "pygments_lexer": "ipython3",
   "version": "3.8.0"
  }
 },
 "nbformat": 4,
 "nbformat_minor": 5
}
