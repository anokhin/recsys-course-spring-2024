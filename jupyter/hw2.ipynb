{
 "cells": [
  {
   "cell_type": "code",
   "execution_count": 1,
   "metadata": {},
   "outputs": [],
   "source": [
    "from collections import defaultdict, Counter\n",
    "import json\n",
    "\n",
    "import numpy as np\n",
    "import pandas as pd"
   ]
  },
  {
   "cell_type": "code",
   "execution_count": 2,
   "metadata": {},
   "outputs": [],
   "source": [
    "DATA_DIR = '../botify/data/'\n",
    "\n",
    "dssm_recs = pd.read_json(DATA_DIR + 'recommendations_dssm.json', lines=True)\n",
    "lfm_recs = pd.read_json(DATA_DIR + 'recommendations_lfm.json', lines=True)\n",
    "\n",
    "all_recs = {\n",
    "    'dssm': dssm_recs,\n",
    "    'lfm': lfm_recs\n",
    "}"
   ]
  },
  {
   "cell_type": "code",
   "execution_count": 3,
   "metadata": {},
   "outputs": [],
   "source": [
    "my_recs = defaultdict(Counter)\n",
    "\n",
    "for name, rec in all_recs.items():\n",
    "    cnt = 0\n",
    "    for _, row in rec.iterrows():\n",
    "        user, tracks = row.values\n",
    "        n = len(tracks)\n",
    "        for i, track in enumerate(tracks):\n",
    "            if name == 'dssm': # dssm suggestions are ordered in descdending priority\n",
    "                my_recs[user][track] += 1 - i / n\n",
    "            else:\n",
    "                my_recs[user][track] += 1 / 99 # move track slightly in ordered list of DSSM recommendations\n",
    "\n",
    "for user, track_ratings in my_recs.items():\n",
    "    my_recs[user] = [track_rating[0] for track_rating in track_ratings.most_common(100)]\n",
    "\n",
    "with open(DATA_DIR + 'recommendations_my_recsys.json', 'w') as f:\n",
    "    for user, tracks in my_recs.items():\n",
    "        recommendation = {\n",
    "            'user': user,\n",
    "            'tracks': tracks\n",
    "        }\n",
    "        f.write(json.dumps(recommendation) + '\\n')"
   ]
  }
 ],
 "metadata": {
  "kernelspec": {
   "display_name": "recsys_venv",
   "language": "python",
   "name": "python3"
  },
  "language_info": {
   "codemirror_mode": {
    "name": "ipython",
    "version": 3
   },
   "file_extension": ".py",
   "mimetype": "text/x-python",
   "name": "python",
   "nbconvert_exporter": "python",
   "pygments_lexer": "ipython3",
   "version": "3.8.16"
  }
 },
 "nbformat": 4,
 "nbformat_minor": 2
}
