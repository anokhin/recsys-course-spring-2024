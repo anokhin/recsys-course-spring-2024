{
 "cells": [
  {
   "cell_type": "markdown",
   "metadata": {},
   "source": [
    "# Week 1 Seminar\n",
    "\n",
    "A/B experiment analysis"
   ]
  },
  {
   "cell_type": "code",
   "execution_count": 152,
   "metadata": {
    "tags": []
   },
   "outputs": [],
   "source": [
    "import glob\n",
    "from collections import namedtuple\n",
    "\n",
    "import pandas as pd\n",
    "import numpy as np\n",
    "import scipy.stats as ss\n",
    "\n",
    "import matplotlib.pyplot as plt\n",
    "\n",
    "pd.set_option(\"display.precision\", 3)\n",
    "\n",
    "%matplotlib inline"
   ]
  },
  {
   "cell_type": "code",
   "execution_count": 153,
   "metadata": {
    "tags": []
   },
   "outputs": [],
   "source": [
    "experiment = \"AB\""
   ]
  },
  {
   "cell_type": "code",
   "execution_count": 154,
   "metadata": {
    "tags": []
   },
   "outputs": [
    {
     "data": {
      "text/html": [
       "<div>\n",
       "<style scoped>\n",
       "    .dataframe tbody tr th:only-of-type {\n",
       "        vertical-align: middle;\n",
       "    }\n",
       "\n",
       "    .dataframe tbody tr th {\n",
       "        vertical-align: top;\n",
       "    }\n",
       "\n",
       "    .dataframe thead th {\n",
       "        text-align: right;\n",
       "    }\n",
       "</style>\n",
       "<table border=\"1\" class=\"dataframe\">\n",
       "  <thead>\n",
       "    <tr style=\"text-align: right;\">\n",
       "      <th></th>\n",
       "      <th>message</th>\n",
       "      <th>timestamp</th>\n",
       "      <th>user</th>\n",
       "      <th>track</th>\n",
       "      <th>time</th>\n",
       "      <th>latency</th>\n",
       "      <th>recommendation</th>\n",
       "      <th>experiments</th>\n",
       "    </tr>\n",
       "  </thead>\n",
       "  <tbody>\n",
       "    <tr>\n",
       "      <th>0</th>\n",
       "      <td>next</td>\n",
       "      <td>2024-04-14 17:45:09.478</td>\n",
       "      <td>1420</td>\n",
       "      <td>768</td>\n",
       "      <td>1.00</td>\n",
       "      <td>9.100e-04</td>\n",
       "      <td>4081.0</td>\n",
       "      <td>{'AB': 'C'}</td>\n",
       "    </tr>\n",
       "    <tr>\n",
       "      <th>1</th>\n",
       "      <td>next</td>\n",
       "      <td>2024-04-14 17:45:09.481</td>\n",
       "      <td>7550</td>\n",
       "      <td>20761</td>\n",
       "      <td>1.00</td>\n",
       "      <td>6.640e-04</td>\n",
       "      <td>83.0</td>\n",
       "      <td>{'AB': 'C'}</td>\n",
       "    </tr>\n",
       "    <tr>\n",
       "      <th>2</th>\n",
       "      <td>next</td>\n",
       "      <td>2024-04-14 17:45:09.483</td>\n",
       "      <td>2344</td>\n",
       "      <td>4092</td>\n",
       "      <td>1.00</td>\n",
       "      <td>6.144e-04</td>\n",
       "      <td>4537.0</td>\n",
       "      <td>{'AB': 'T1'}</td>\n",
       "    </tr>\n",
       "    <tr>\n",
       "      <th>3</th>\n",
       "      <td>next</td>\n",
       "      <td>2024-04-14 17:45:09.485</td>\n",
       "      <td>8286</td>\n",
       "      <td>508</td>\n",
       "      <td>1.00</td>\n",
       "      <td>5.932e-04</td>\n",
       "      <td>498.0</td>\n",
       "      <td>{'AB': 'T1'}</td>\n",
       "    </tr>\n",
       "    <tr>\n",
       "      <th>4</th>\n",
       "      <td>next</td>\n",
       "      <td>2024-04-14 17:45:09.487</td>\n",
       "      <td>1420</td>\n",
       "      <td>4081</td>\n",
       "      <td>1.00</td>\n",
       "      <td>5.631e-04</td>\n",
       "      <td>3999.0</td>\n",
       "      <td>{'AB': 'C'}</td>\n",
       "    </tr>\n",
       "    <tr>\n",
       "      <th>...</th>\n",
       "      <td>...</td>\n",
       "      <td>...</td>\n",
       "      <td>...</td>\n",
       "      <td>...</td>\n",
       "      <td>...</td>\n",
       "      <td>...</td>\n",
       "      <td>...</td>\n",
       "      <td>...</td>\n",
       "    </tr>\n",
       "    <tr>\n",
       "      <th>360667</th>\n",
       "      <td>next</td>\n",
       "      <td>2024-04-14 18:04:51.837</td>\n",
       "      <td>2642</td>\n",
       "      <td>529</td>\n",
       "      <td>0.14</td>\n",
       "      <td>6.526e-04</td>\n",
       "      <td>520.0</td>\n",
       "      <td>{'AB': 'C'}</td>\n",
       "    </tr>\n",
       "    <tr>\n",
       "      <th>360668</th>\n",
       "      <td>next</td>\n",
       "      <td>2024-04-14 18:04:51.840</td>\n",
       "      <td>2642</td>\n",
       "      <td>520</td>\n",
       "      <td>0.00</td>\n",
       "      <td>5.846e-04</td>\n",
       "      <td>485.0</td>\n",
       "      <td>{'AB': 'C'}</td>\n",
       "    </tr>\n",
       "    <tr>\n",
       "      <th>360669</th>\n",
       "      <td>next</td>\n",
       "      <td>2024-04-14 18:04:51.844</td>\n",
       "      <td>2642</td>\n",
       "      <td>485</td>\n",
       "      <td>0.00</td>\n",
       "      <td>1.151e-03</td>\n",
       "      <td>3096.0</td>\n",
       "      <td>{'AB': 'C'}</td>\n",
       "    </tr>\n",
       "    <tr>\n",
       "      <th>360670</th>\n",
       "      <td>next</td>\n",
       "      <td>2024-04-14 18:04:51.847</td>\n",
       "      <td>2642</td>\n",
       "      <td>3096</td>\n",
       "      <td>0.00</td>\n",
       "      <td>6.177e-04</td>\n",
       "      <td>501.0</td>\n",
       "      <td>{'AB': 'C'}</td>\n",
       "    </tr>\n",
       "    <tr>\n",
       "      <th>360671</th>\n",
       "      <td>last</td>\n",
       "      <td>2024-04-14 18:04:51.850</td>\n",
       "      <td>2642</td>\n",
       "      <td>501</td>\n",
       "      <td>0.00</td>\n",
       "      <td>1.376e-04</td>\n",
       "      <td>NaN</td>\n",
       "      <td>{'AB': 'C'}</td>\n",
       "    </tr>\n",
       "  </tbody>\n",
       "</table>\n",
       "<p>360672 rows × 8 columns</p>\n",
       "</div>"
      ],
      "text/plain": [
       "       message               timestamp  user  track  time    latency  \\\n",
       "0         next 2024-04-14 17:45:09.478  1420    768  1.00  9.100e-04   \n",
       "1         next 2024-04-14 17:45:09.481  7550  20761  1.00  6.640e-04   \n",
       "2         next 2024-04-14 17:45:09.483  2344   4092  1.00  6.144e-04   \n",
       "3         next 2024-04-14 17:45:09.485  8286    508  1.00  5.932e-04   \n",
       "4         next 2024-04-14 17:45:09.487  1420   4081  1.00  5.631e-04   \n",
       "...        ...                     ...   ...    ...   ...        ...   \n",
       "360667    next 2024-04-14 18:04:51.837  2642    529  0.14  6.526e-04   \n",
       "360668    next 2024-04-14 18:04:51.840  2642    520  0.00  5.846e-04   \n",
       "360669    next 2024-04-14 18:04:51.844  2642    485  0.00  1.151e-03   \n",
       "360670    next 2024-04-14 18:04:51.847  2642   3096  0.00  6.177e-04   \n",
       "360671    last 2024-04-14 18:04:51.850  2642    501  0.00  1.376e-04   \n",
       "\n",
       "        recommendation   experiments  \n",
       "0               4081.0   {'AB': 'C'}  \n",
       "1                 83.0   {'AB': 'C'}  \n",
       "2               4537.0  {'AB': 'T1'}  \n",
       "3                498.0  {'AB': 'T1'}  \n",
       "4               3999.0   {'AB': 'C'}  \n",
       "...                ...           ...  \n",
       "360667           520.0   {'AB': 'C'}  \n",
       "360668           485.0   {'AB': 'C'}  \n",
       "360669          3096.0   {'AB': 'C'}  \n",
       "360670           501.0   {'AB': 'C'}  \n",
       "360671             NaN   {'AB': 'C'}  \n",
       "\n",
       "[360672 rows x 8 columns]"
      ]
     },
     "execution_count": 154,
     "metadata": {},
     "output_type": "execute_result"
    }
   ],
   "source": [
    "data = pd.concat([\n",
    "    pd.read_json(data_path, lines=True)\n",
    "    for data_path\n",
    "    in glob.glob(\"/tmp/test/AB/*/data.json\")\n",
    "])\n",
    "\n",
    "data"
   ]
  },
  {
   "cell_type": "code",
   "execution_count": null,
   "metadata": {},
   "outputs": [],
   "source": []
  },
  {
   "cell_type": "code",
   "execution_count": null,
   "metadata": {},
   "outputs": [],
   "source": []
  },
  {
   "cell_type": "code",
   "execution_count": 155,
   "metadata": {},
   "outputs": [],
   "source": [
    "data[\"treatment\"] = data[\"experiments\"].map(lambda experiments: experiments[experiment])"
   ]
  },
  {
   "cell_type": "code",
   "execution_count": 156,
   "metadata": {
    "tags": []
   },
   "outputs": [
    {
     "data": {
      "text/html": [
       "<div>\n",
       "<style scoped>\n",
       "    .dataframe tbody tr th:only-of-type {\n",
       "        vertical-align: middle;\n",
       "    }\n",
       "\n",
       "    .dataframe tbody tr th {\n",
       "        vertical-align: top;\n",
       "    }\n",
       "\n",
       "    .dataframe thead th {\n",
       "        text-align: right;\n",
       "    }\n",
       "</style>\n",
       "<table border=\"1\" class=\"dataframe\">\n",
       "  <thead>\n",
       "    <tr style=\"text-align: right;\">\n",
       "      <th></th>\n",
       "      <th>message</th>\n",
       "      <th>timestamp</th>\n",
       "      <th>user</th>\n",
       "      <th>track</th>\n",
       "      <th>time</th>\n",
       "      <th>latency</th>\n",
       "      <th>recommendation</th>\n",
       "      <th>experiments</th>\n",
       "    </tr>\n",
       "    <tr>\n",
       "      <th>treatment</th>\n",
       "      <th></th>\n",
       "      <th></th>\n",
       "      <th></th>\n",
       "      <th></th>\n",
       "      <th></th>\n",
       "      <th></th>\n",
       "      <th></th>\n",
       "      <th></th>\n",
       "    </tr>\n",
       "  </thead>\n",
       "  <tbody>\n",
       "    <tr>\n",
       "      <th>C</th>\n",
       "      <td>183818</td>\n",
       "      <td>183818</td>\n",
       "      <td>183818</td>\n",
       "      <td>183818</td>\n",
       "      <td>183818</td>\n",
       "      <td>183818</td>\n",
       "      <td>163626</td>\n",
       "      <td>183818</td>\n",
       "    </tr>\n",
       "    <tr>\n",
       "      <th>T1</th>\n",
       "      <td>176854</td>\n",
       "      <td>176854</td>\n",
       "      <td>176854</td>\n",
       "      <td>176854</td>\n",
       "      <td>176854</td>\n",
       "      <td>176854</td>\n",
       "      <td>157046</td>\n",
       "      <td>176854</td>\n",
       "    </tr>\n",
       "  </tbody>\n",
       "</table>\n",
       "</div>"
      ],
      "text/plain": [
       "           message  timestamp    user   track    time  latency  \\\n",
       "treatment                                                        \n",
       "C           183818     183818  183818  183818  183818   183818   \n",
       "T1          176854     176854  176854  176854  176854   176854   \n",
       "\n",
       "           recommendation  experiments  \n",
       "treatment                               \n",
       "C                  163626       183818  \n",
       "T1                 157046       176854  "
      ]
     },
     "execution_count": 156,
     "metadata": {},
     "output_type": "execute_result"
    }
   ],
   "source": [
    "data.groupby(\"treatment\").count()"
   ]
  },
  {
   "cell_type": "markdown",
   "metadata": {},
   "source": [
    "## Visualize sessions"
   ]
  },
  {
   "cell_type": "code",
   "execution_count": 157,
   "metadata": {
    "tags": []
   },
   "outputs": [],
   "source": [
    "Session = namedtuple(\"Session\", [\"timestamp\", \"tracks\", \"time\", \"latency\"])\n",
    "\n",
    "def sessionize(user_data):\n",
    "    sessions = []\n",
    "    session = None\n",
    "    for _, row in user_data.sort_values(\"timestamp\").iterrows():\n",
    "        if session is None:\n",
    "            session = Session(row[\"timestamp\"], 0, 0, 0)\n",
    "        \n",
    "        session = session._replace(\n",
    "            tracks = session.tracks + 1, \n",
    "            time = session.time + row[\"time\"],\n",
    "            latency = session.latency + row[\"latency\"] * 1000,\n",
    "        )\n",
    "        \n",
    "        if row[\"message\"] == \"last\":\n",
    "            sessions.append(session._asdict())\n",
    "            session = None\n",
    "    return sessions"
   ]
  },
  {
   "cell_type": "code",
   "execution_count": 158,
   "metadata": {
    "tags": []
   },
   "outputs": [],
   "source": [
    "sessions = (\n",
    "    data\n",
    "    .groupby([\"user\", \"treatment\"])\n",
    "    .apply(sessionize)\n",
    "    .explode()\n",
    "    .apply(pd.Series)\n",
    ")"
   ]
  },
  {
   "cell_type": "code",
   "execution_count": 159,
   "metadata": {
    "tags": []
   },
   "outputs": [
    {
     "data": {
      "image/png": "[encoded data removed]",
      "text/plain": [
       "<Figure size 1500x500 with 1 Axes>"
      ]
     },
     "metadata": {},
     "output_type": "display_data"
    }
   ],
   "source": [
    "figure, ax = plt.subplots(figsize=(15, 5))\n",
    "for treatment, treatment_sessions in sessions.groupby(\"treatment\"):\n",
    "    reindexed_treatment_sessions = treatment_sessions.sort_values(\"timestamp\").reset_index()\n",
    "    ax.plot(reindexed_treatment_sessions.index, reindexed_treatment_sessions[\"tracks\"], label=treatment)\n",
    "ax.legend()\n",
    "pass"
   ]
  },
  {
   "cell_type": "code",
   "execution_count": 160,
   "metadata": {
    "tags": []
   },
   "outputs": [
    {
     "data": {
      "image/png": "[encoded data removed]",
      "text/plain": [
       "<Figure size 1500x500 with 1 Axes>"
      ]
     },
     "metadata": {},
     "output_type": "display_data"
    }
   ],
   "source": [
    "figure, ax = plt.subplots(figsize=(15, 5))\n",
    "for treatment, treatment_sessions in sessions.groupby(\"treatment\"):\n",
    "    reindexed_treatment_sessions = treatment_sessions.sort_values(\"timestamp\").reset_index()\n",
    "    ax.plot(reindexed_treatment_sessions.index, reindexed_treatment_sessions[\"time\"], label=treatment)\n",
    "ax.legend()\n",
    "pass"
   ]
  },
  {
   "cell_type": "markdown",
   "metadata": {},
   "source": [
    "## Analyze the experiment"
   ]
  },
  {
   "cell_type": "code",
   "execution_count": 161,
   "metadata": {
    "tags": []
   },
   "outputs": [],
   "source": [
    "user_level_data = (\n",
    "  sessions\n",
    "    .reset_index()\n",
    "    .groupby([\"user\", \"treatment\"])\n",
    "    .agg(\n",
    "        {\n",
    "            \"timestamp\": \"count\",\n",
    "            \"tracks\": \"sum\",\n",
    "            \"time\": \"sum\",\n",
    "            \"latency\": \"sum\"\n",
    "        }\n",
    "    )\n",
    ")\n",
    "\n",
    "user_level_data[\"sessions\"] = user_level_data[\"timestamp\"]\n",
    "user_level_data[\"mean_request_latency\"] = user_level_data[\"latency\"] / user_level_data[\"tracks\"]\n",
    "user_level_data[\"mean_tracks_per_session\"] = user_level_data[\"tracks\"] / user_level_data[\"sessions\"]\n",
    "user_level_data[\"mean_time_per_session\"] = user_level_data[\"time\"] / user_level_data[\"sessions\"]\n",
    "\n",
    "metrics = [\n",
    "    \"time\", \n",
    "    \"sessions\", \n",
    "    \"mean_request_latency\", \n",
    "    \"mean_tracks_per_session\", \n",
    "    \"mean_time_per_session\"\n",
    "]\n",
    "\n",
    "user_level_metrics = user_level_data[metrics].copy().reset_index()"
   ]
  },
  {
   "cell_type": "code",
   "execution_count": 162,
   "metadata": {
    "tags": []
   },
   "outputs": [],
   "source": [
    "treatment_level_metrics = (\n",
    "    user_level_metrics\n",
    "    .groupby(\"treatment\")[metrics]\n",
    "    .agg([\"count\", \"mean\", \"var\"])\n",
    ")"
   ]
  },
  {
   "cell_type": "code",
   "execution_count": 163,
   "metadata": {
    "tags": []
   },
   "outputs": [],
   "source": [
    "def dof(n_0, n_1, s2_0, s2_1):\n",
    "    numerator = (s2_0 / n_0 + s2_1 / n_1) * (s2_0 / n_0 + s2_1 / n_1)\n",
    "    denominator = s2_0 * s2_0 / n_0 / n_0 / (n_0 - 1) + s2_1 * s2_1 / n_1 / n_1 / (n_1 - 1)\n",
    "    return numerator / denominator\n",
    "\n",
    "\n",
    "def ci(n_0, n_1, s2_0, s2_1, alpha=0.05):\n",
    "    return ss.t.ppf(1 - alpha/2, dof(n_0, n_1, s2_0, s2_1)) * np.sqrt(s2_0 / n_0 + s2_1 / n_1)\n",
    "\n",
    "\n",
    "effects = []\n",
    "\n",
    "control = [data for treatment, data in treatment_level_metrics.iterrows() if treatment == \"C\"][0]\n",
    "\n",
    "for treatment, row in treatment_level_metrics.iterrows():\n",
    "    if treatment == \"C\":\n",
    "        continue\n",
    "    \n",
    "    for metric in metrics:\n",
    "        control_mean = control[metric][\"mean\"]\n",
    "        treatment_mean = row[metric][\"mean\"]\n",
    "        \n",
    "        effect = treatment_mean - control_mean\n",
    "        conf_int = ci(\n",
    "            control[metric][\"count\"],\n",
    "            row[metric][\"count\"],\n",
    "            control[metric][\"var\"],\n",
    "            row[metric][\"var\"],\n",
    "        )\n",
    "        effects.append({\n",
    "            \"treatment\": treatment,\n",
    "            \"metric\": metric,\n",
    "            \"control_mean\": control_mean,\n",
    "            \"treatment_mean\": treatment_mean,\n",
    "            \"effect\": effect / control_mean * 100,\n",
    "            \"lower\": (effect - conf_int) / control_mean * 100,\n",
    "            \"upper\": (effect + conf_int) / control_mean * 100,\n",
    "            \"significant\": (effect + conf_int) * (effect - conf_int) > 0\n",
    "        })"
   ]
  },
  {
   "cell_type": "code",
   "execution_count": 164,
   "metadata": {
    "tags": []
   },
   "outputs": [
    {
     "data": {
      "text/html": [
       "<style type=\"text/css\">\n",
       "#T_9a285_row0_col2, #T_9a285_row0_col3, #T_9a285_row0_col4, #T_9a285_row1_col2, #T_9a285_row1_col4, #T_9a285_row2_col2, #T_9a285_row2_col3, #T_9a285_row2_col4, #T_9a285_row3_col2, #T_9a285_row3_col3, #T_9a285_row3_col4, #T_9a285_row4_col2, #T_9a285_row4_col3, #T_9a285_row4_col4 {\n",
       "  color: red;\n",
       "}\n",
       "#T_9a285_row0_col7, #T_9a285_row2_col7, #T_9a285_row3_col7, #T_9a285_row4_col7 {\n",
       "  color: white;\n",
       "  background-color: green;\n",
       "}\n",
       "#T_9a285_row1_col3 {\n",
       "  color: green;\n",
       "}\n",
       "#T_9a285_row1_col7 {\n",
       "  color: white;\n",
       "  background-color: red;\n",
       "}\n",
       "</style>\n",
       "<table id=\"T_9a285_\">\n",
       "  <thead>\n",
       "    <tr>\n",
       "      <th class=\"blank level0\" >&nbsp;</th>\n",
       "      <th class=\"col_heading level0 col0\" >treatment</th>\n",
       "      <th class=\"col_heading level0 col1\" >metric</th>\n",
       "      <th class=\"col_heading level0 col2\" >effect</th>\n",
       "      <th class=\"col_heading level0 col3\" >upper</th>\n",
       "      <th class=\"col_heading level0 col4\" >lower</th>\n",
       "      <th class=\"col_heading level0 col5\" >control_mean</th>\n",
       "      <th class=\"col_heading level0 col6\" >treatment_mean</th>\n",
       "      <th class=\"col_heading level0 col7\" >significant</th>\n",
       "    </tr>\n",
       "  </thead>\n",
       "  <tbody>\n",
       "    <tr>\n",
       "      <th id=\"T_9a285_level0_row0\" class=\"row_heading level0 row0\" >0</th>\n",
       "      <td id=\"T_9a285_row0_col0\" class=\"data row0 col0\" >T1</td>\n",
       "      <td id=\"T_9a285_row0_col1\" class=\"data row0 col1\" >time</td>\n",
       "      <td id=\"T_9a285_row0_col2\" class=\"data row0 col2\" >-4.478</td>\n",
       "      <td id=\"T_9a285_row0_col3\" class=\"data row0 col3\" >-0.410</td>\n",
       "      <td id=\"T_9a285_row0_col4\" class=\"data row0 col4\" >-8.547</td>\n",
       "      <td id=\"T_9a285_row0_col5\" class=\"data row0 col5\" >16.720</td>\n",
       "      <td id=\"T_9a285_row0_col6\" class=\"data row0 col6\" >15.971</td>\n",
       "      <td id=\"T_9a285_row0_col7\" class=\"data row0 col7\" >True</td>\n",
       "    </tr>\n",
       "    <tr>\n",
       "      <th id=\"T_9a285_level0_row1\" class=\"row_heading level0 row1\" >1</th>\n",
       "      <td id=\"T_9a285_row1_col0\" class=\"data row1 col0\" >T1</td>\n",
       "      <td id=\"T_9a285_row1_col1\" class=\"data row1 col1\" >sessions</td>\n",
       "      <td id=\"T_9a285_row1_col2\" class=\"data row1 col2\" >-0.271</td>\n",
       "      <td id=\"T_9a285_row1_col3\" class=\"data row1 col3\" >1.616</td>\n",
       "      <td id=\"T_9a285_row1_col4\" class=\"data row1 col4\" >-2.158</td>\n",
       "      <td id=\"T_9a285_row1_col5\" class=\"data row1 col5\" >4.077</td>\n",
       "      <td id=\"T_9a285_row1_col6\" class=\"data row1 col6\" >4.066</td>\n",
       "      <td id=\"T_9a285_row1_col7\" class=\"data row1 col7\" >False</td>\n",
       "    </tr>\n",
       "    <tr>\n",
       "      <th id=\"T_9a285_level0_row2\" class=\"row_heading level0 row2\" >3</th>\n",
       "      <td id=\"T_9a285_row2_col0\" class=\"data row2 col0\" >T1</td>\n",
       "      <td id=\"T_9a285_row2_col1\" class=\"data row2 col1\" >mean_tracks_per_session</td>\n",
       "      <td id=\"T_9a285_row2_col2\" class=\"data row2 col2\" >-2.301</td>\n",
       "      <td id=\"T_9a285_row2_col3\" class=\"data row2 col3\" >-0.680</td>\n",
       "      <td id=\"T_9a285_row2_col4\" class=\"data row2 col4\" >-3.921</td>\n",
       "      <td id=\"T_9a285_row2_col5\" class=\"data row2 col5\" >9.118</td>\n",
       "      <td id=\"T_9a285_row2_col6\" class=\"data row2 col6\" >8.909</td>\n",
       "      <td id=\"T_9a285_row2_col7\" class=\"data row2 col7\" >True</td>\n",
       "    </tr>\n",
       "    <tr>\n",
       "      <th id=\"T_9a285_level0_row3\" class=\"row_heading level0 row3\" >4</th>\n",
       "      <td id=\"T_9a285_row3_col0\" class=\"data row3 col0\" >T1</td>\n",
       "      <td id=\"T_9a285_row3_col1\" class=\"data row3 col1\" >mean_time_per_session</td>\n",
       "      <td id=\"T_9a285_row3_col2\" class=\"data row3 col2\" >-5.071</td>\n",
       "      <td id=\"T_9a285_row3_col3\" class=\"data row3 col3\" >-1.528</td>\n",
       "      <td id=\"T_9a285_row3_col4\" class=\"data row3 col4\" >-8.614</td>\n",
       "      <td id=\"T_9a285_row3_col5\" class=\"data row3 col5\" >4.119</td>\n",
       "      <td id=\"T_9a285_row3_col6\" class=\"data row3 col6\" >3.910</td>\n",
       "      <td id=\"T_9a285_row3_col7\" class=\"data row3 col7\" >True</td>\n",
       "    </tr>\n",
       "    <tr>\n",
       "      <th id=\"T_9a285_level0_row4\" class=\"row_heading level0 row4\" >2</th>\n",
       "      <td id=\"T_9a285_row4_col0\" class=\"data row4 col0\" >T1</td>\n",
       "      <td id=\"T_9a285_row4_col1\" class=\"data row4 col1\" >mean_request_latency</td>\n",
       "      <td id=\"T_9a285_row4_col2\" class=\"data row4 col2\" >-9.724</td>\n",
       "      <td id=\"T_9a285_row4_col3\" class=\"data row4 col3\" >-8.721</td>\n",
       "      <td id=\"T_9a285_row4_col4\" class=\"data row4 col4\" >-10.727</td>\n",
       "      <td id=\"T_9a285_row4_col5\" class=\"data row4 col5\" >0.951</td>\n",
       "      <td id=\"T_9a285_row4_col6\" class=\"data row4 col6\" >0.858</td>\n",
       "      <td id=\"T_9a285_row4_col7\" class=\"data row4 col7\" >True</td>\n",
       "    </tr>\n",
       "  </tbody>\n",
       "</table>\n"
      ],
      "text/plain": [
       "<pandas.io.formats.style.Styler at 0x7f9934c87ee0>"
      ]
     },
     "execution_count": 164,
     "metadata": {},
     "output_type": "execute_result"
    }
   ],
   "source": [
    "def color(value):\n",
    "    return 'color:red;' if value < 0 else 'color:green;'\n",
    "\n",
    "def background(value):\n",
    "    return 'color:white;background-color:green' if value else 'color:white;background-color:red'\n",
    "        \n",
    "\n",
    "(\n",
    "    pd.DataFrame(effects)[[\n",
    "        \"treatment\", \n",
    "        \"metric\",\n",
    "        \"effect\", \n",
    "        \"upper\", \n",
    "        \"lower\", \n",
    "        \"control_mean\", \n",
    "        \"treatment_mean\",\n",
    "        \"significant\"\n",
    "    ]]\n",
    "    .sort_values([\"metric\", \"treatment\"], ascending=False)\n",
    "    .style\n",
    "    .applymap(color, subset=[\"effect\", \"upper\", \"lower\"])\n",
    "    .applymap(background, subset=[\"significant\"])\n",
    ")"
   ]
  },
  {
   "cell_type": "code",
   "execution_count": null,
   "metadata": {},
   "outputs": [],
   "source": []
  },
  {
   "cell_type": "code",
   "execution_count": null,
   "metadata": {},
   "outputs": [],
   "source": []
  },
  {
   "cell_type": "code",
   "execution_count": null,
   "metadata": {},
   "outputs": [],
   "source": []
  },
  {
   "cell_type": "code",
   "execution_count": null,
   "metadata": {},
   "outputs": [],
   "source": []
  }
 ],
 "metadata": {
  "kernelspec": {
   "display_name": "Python 3 (ipykernel)",
   "language": "python",
   "name": "python3"
  },
  "language_info": {
   "codemirror_mode": {
    "name": "ipython",
    "version": 3
   },
   "file_extension": ".py",
   "mimetype": "text/x-python",
   "name": "python",
   "nbconvert_exporter": "python",
   "pygments_lexer": "ipython3",
   "version": "3.8.0"
  }
 },
 "nbformat": 4,
 "nbformat_minor": 4
}
